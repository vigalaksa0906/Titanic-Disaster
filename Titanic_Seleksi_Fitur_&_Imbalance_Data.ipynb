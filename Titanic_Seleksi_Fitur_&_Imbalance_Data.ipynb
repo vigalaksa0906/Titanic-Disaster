{
  "cells": [
    {
      "cell_type": "code",
      "execution_count": null,
      "metadata": {
        "id": "h3kLmM24QOaV"
      },
      "outputs": [],
      "source": [
        "import pandas as pd\n",
        "import seaborn as sns\n",
        "import matplotlib.pyplot as plt\n",
        "import numpy as np\n",
        "\n",
        "from sklearn.model_selection import train_test_split\n",
        "from sklearn.ensemble import RandomForestClassifier\n",
        "from sklearn.metrics import accuracy_score"
      ]
    },
    {
      "cell_type": "markdown",
      "metadata": {
        "id": "Ks2t98yOQa44"
      },
      "source": [
        "## Data Pre-Proc"
      ]
    },
    {
      "cell_type": "code",
      "execution_count": null,
      "metadata": {
        "colab": {
          "base_uri": "https://localhost:8080/",
          "height": 423
        },
        "id": "3KSsxWJFQaSw",
        "outputId": "77334116-3e52-4080-8522-4c3ac3878c59"
      },
      "outputs": [
        {
          "data": {
            "text/html": [
              "<div>\n",
              "<style scoped>\n",
              "    .dataframe tbody tr th:only-of-type {\n",
              "        vertical-align: middle;\n",
              "    }\n",
              "\n",
              "    .dataframe tbody tr th {\n",
              "        vertical-align: top;\n",
              "    }\n",
              "\n",
              "    .dataframe thead th {\n",
              "        text-align: right;\n",
              "    }\n",
              "</style>\n",
              "<table border=\"1\" class=\"dataframe\">\n",
              "  <thead>\n",
              "    <tr style=\"text-align: right;\">\n",
              "      <th></th>\n",
              "      <th>Survived</th>\n",
              "      <th>Pclass</th>\n",
              "      <th>Sex</th>\n",
              "      <th>Age</th>\n",
              "      <th>SibSp</th>\n",
              "      <th>Parch</th>\n",
              "      <th>Fare</th>\n",
              "      <th>Embarked</th>\n",
              "    </tr>\n",
              "  </thead>\n",
              "  <tbody>\n",
              "    <tr>\n",
              "      <th>0</th>\n",
              "      <td>0</td>\n",
              "      <td>3</td>\n",
              "      <td>male</td>\n",
              "      <td>22.0</td>\n",
              "      <td>1</td>\n",
              "      <td>0</td>\n",
              "      <td>7.2500</td>\n",
              "      <td>S</td>\n",
              "    </tr>\n",
              "    <tr>\n",
              "      <th>1</th>\n",
              "      <td>1</td>\n",
              "      <td>1</td>\n",
              "      <td>female</td>\n",
              "      <td>38.0</td>\n",
              "      <td>1</td>\n",
              "      <td>0</td>\n",
              "      <td>71.2833</td>\n",
              "      <td>C</td>\n",
              "    </tr>\n",
              "    <tr>\n",
              "      <th>2</th>\n",
              "      <td>1</td>\n",
              "      <td>3</td>\n",
              "      <td>female</td>\n",
              "      <td>26.0</td>\n",
              "      <td>0</td>\n",
              "      <td>0</td>\n",
              "      <td>7.9250</td>\n",
              "      <td>S</td>\n",
              "    </tr>\n",
              "    <tr>\n",
              "      <th>3</th>\n",
              "      <td>1</td>\n",
              "      <td>1</td>\n",
              "      <td>female</td>\n",
              "      <td>35.0</td>\n",
              "      <td>1</td>\n",
              "      <td>0</td>\n",
              "      <td>53.1000</td>\n",
              "      <td>S</td>\n",
              "    </tr>\n",
              "    <tr>\n",
              "      <th>4</th>\n",
              "      <td>0</td>\n",
              "      <td>3</td>\n",
              "      <td>male</td>\n",
              "      <td>35.0</td>\n",
              "      <td>0</td>\n",
              "      <td>0</td>\n",
              "      <td>8.0500</td>\n",
              "      <td>S</td>\n",
              "    </tr>\n",
              "    <tr>\n",
              "      <th>...</th>\n",
              "      <td>...</td>\n",
              "      <td>...</td>\n",
              "      <td>...</td>\n",
              "      <td>...</td>\n",
              "      <td>...</td>\n",
              "      <td>...</td>\n",
              "      <td>...</td>\n",
              "      <td>...</td>\n",
              "    </tr>\n",
              "    <tr>\n",
              "      <th>886</th>\n",
              "      <td>0</td>\n",
              "      <td>2</td>\n",
              "      <td>male</td>\n",
              "      <td>27.0</td>\n",
              "      <td>0</td>\n",
              "      <td>0</td>\n",
              "      <td>13.0000</td>\n",
              "      <td>S</td>\n",
              "    </tr>\n",
              "    <tr>\n",
              "      <th>887</th>\n",
              "      <td>1</td>\n",
              "      <td>1</td>\n",
              "      <td>female</td>\n",
              "      <td>19.0</td>\n",
              "      <td>0</td>\n",
              "      <td>0</td>\n",
              "      <td>30.0000</td>\n",
              "      <td>S</td>\n",
              "    </tr>\n",
              "    <tr>\n",
              "      <th>888</th>\n",
              "      <td>0</td>\n",
              "      <td>3</td>\n",
              "      <td>female</td>\n",
              "      <td>NaN</td>\n",
              "      <td>1</td>\n",
              "      <td>2</td>\n",
              "      <td>23.4500</td>\n",
              "      <td>S</td>\n",
              "    </tr>\n",
              "    <tr>\n",
              "      <th>889</th>\n",
              "      <td>1</td>\n",
              "      <td>1</td>\n",
              "      <td>male</td>\n",
              "      <td>26.0</td>\n",
              "      <td>0</td>\n",
              "      <td>0</td>\n",
              "      <td>30.0000</td>\n",
              "      <td>C</td>\n",
              "    </tr>\n",
              "    <tr>\n",
              "      <th>890</th>\n",
              "      <td>0</td>\n",
              "      <td>3</td>\n",
              "      <td>male</td>\n",
              "      <td>32.0</td>\n",
              "      <td>0</td>\n",
              "      <td>0</td>\n",
              "      <td>7.7500</td>\n",
              "      <td>Q</td>\n",
              "    </tr>\n",
              "  </tbody>\n",
              "</table>\n",
              "<p>891 rows × 8 columns</p>\n",
              "</div>"
            ],
            "text/plain": [
              "     Survived  Pclass     Sex   Age  SibSp  Parch     Fare Embarked\n",
              "0           0       3    male  22.0      1      0   7.2500        S\n",
              "1           1       1  female  38.0      1      0  71.2833        C\n",
              "2           1       3  female  26.0      0      0   7.9250        S\n",
              "3           1       1  female  35.0      1      0  53.1000        S\n",
              "4           0       3    male  35.0      0      0   8.0500        S\n",
              "..        ...     ...     ...   ...    ...    ...      ...      ...\n",
              "886         0       2    male  27.0      0      0  13.0000        S\n",
              "887         1       1  female  19.0      0      0  30.0000        S\n",
              "888         0       3  female   NaN      1      2  23.4500        S\n",
              "889         1       1    male  26.0      0      0  30.0000        C\n",
              "890         0       3    male  32.0      0      0   7.7500        Q\n",
              "\n",
              "[891 rows x 8 columns]"
            ]
          },
          "execution_count": 2,
          "metadata": {},
          "output_type": "execute_result"
        }
      ],
      "source": [
        "# Memuat dataset Titanic\n",
        "titanic_data = pd.read_csv('train.csv')\n",
        "\n",
        "# Menghapus kolom 'PassengerId', 'Name', 'Ticket', dan 'Cabin' dikarenakan tidak diperlukan\n",
        "titanic_data.drop(['PassengerId', 'Name', 'Ticket', 'Cabin'], axis=1, inplace=True)\n",
        "\n",
        "titanic_data"
      ]
    },
    {
      "cell_type": "code",
      "execution_count": null,
      "metadata": {
        "colab": {
          "base_uri": "https://localhost:8080/",
          "height": 461
        },
        "id": "LszU6qncQgRx",
        "outputId": "f60df77e-5366-4984-c34c-2a98986a6922"
      },
      "outputs": [
        {
          "data": {
            "text/html": [
              "<div>\n",
              "<style scoped>\n",
              "    .dataframe tbody tr th:only-of-type {\n",
              "        vertical-align: middle;\n",
              "    }\n",
              "\n",
              "    .dataframe tbody tr th {\n",
              "        vertical-align: top;\n",
              "    }\n",
              "\n",
              "    .dataframe thead th {\n",
              "        text-align: right;\n",
              "    }\n",
              "</style>\n",
              "<table border=\"1\" class=\"dataframe\">\n",
              "  <thead>\n",
              "    <tr style=\"text-align: right;\">\n",
              "      <th></th>\n",
              "      <th>Survived</th>\n",
              "      <th>Pclass</th>\n",
              "      <th>Sex</th>\n",
              "      <th>Age</th>\n",
              "      <th>SibSp</th>\n",
              "      <th>Parch</th>\n",
              "      <th>Fare</th>\n",
              "      <th>Embarked</th>\n",
              "      <th>Sex Encode</th>\n",
              "      <th>Embarked_C</th>\n",
              "      <th>Embarked_Q</th>\n",
              "      <th>Embarked_S</th>\n",
              "    </tr>\n",
              "  </thead>\n",
              "  <tbody>\n",
              "    <tr>\n",
              "      <th>0</th>\n",
              "      <td>0</td>\n",
              "      <td>3</td>\n",
              "      <td>male</td>\n",
              "      <td>22.0</td>\n",
              "      <td>1</td>\n",
              "      <td>0</td>\n",
              "      <td>7.2500</td>\n",
              "      <td>S</td>\n",
              "      <td>0</td>\n",
              "      <td>0</td>\n",
              "      <td>0</td>\n",
              "      <td>1</td>\n",
              "    </tr>\n",
              "    <tr>\n",
              "      <th>1</th>\n",
              "      <td>1</td>\n",
              "      <td>1</td>\n",
              "      <td>female</td>\n",
              "      <td>38.0</td>\n",
              "      <td>1</td>\n",
              "      <td>0</td>\n",
              "      <td>71.2833</td>\n",
              "      <td>C</td>\n",
              "      <td>1</td>\n",
              "      <td>1</td>\n",
              "      <td>0</td>\n",
              "      <td>0</td>\n",
              "    </tr>\n",
              "    <tr>\n",
              "      <th>2</th>\n",
              "      <td>1</td>\n",
              "      <td>3</td>\n",
              "      <td>female</td>\n",
              "      <td>26.0</td>\n",
              "      <td>0</td>\n",
              "      <td>0</td>\n",
              "      <td>7.9250</td>\n",
              "      <td>S</td>\n",
              "      <td>1</td>\n",
              "      <td>0</td>\n",
              "      <td>0</td>\n",
              "      <td>1</td>\n",
              "    </tr>\n",
              "    <tr>\n",
              "      <th>3</th>\n",
              "      <td>1</td>\n",
              "      <td>1</td>\n",
              "      <td>female</td>\n",
              "      <td>35.0</td>\n",
              "      <td>1</td>\n",
              "      <td>0</td>\n",
              "      <td>53.1000</td>\n",
              "      <td>S</td>\n",
              "      <td>1</td>\n",
              "      <td>0</td>\n",
              "      <td>0</td>\n",
              "      <td>1</td>\n",
              "    </tr>\n",
              "    <tr>\n",
              "      <th>4</th>\n",
              "      <td>0</td>\n",
              "      <td>3</td>\n",
              "      <td>male</td>\n",
              "      <td>35.0</td>\n",
              "      <td>0</td>\n",
              "      <td>0</td>\n",
              "      <td>8.0500</td>\n",
              "      <td>S</td>\n",
              "      <td>0</td>\n",
              "      <td>0</td>\n",
              "      <td>0</td>\n",
              "      <td>1</td>\n",
              "    </tr>\n",
              "  </tbody>\n",
              "</table>\n",
              "</div>"
            ],
            "text/plain": [
              "   Survived  Pclass     Sex   Age  SibSp  Parch     Fare Embarked  Sex Encode  \\\n",
              "0         0       3    male  22.0      1      0   7.2500        S           0   \n",
              "1         1       1  female  38.0      1      0  71.2833        C           1   \n",
              "2         1       3  female  26.0      0      0   7.9250        S           1   \n",
              "3         1       1  female  35.0      1      0  53.1000        S           1   \n",
              "4         0       3    male  35.0      0      0   8.0500        S           0   \n",
              "\n",
              "   Embarked_C  Embarked_Q  Embarked_S  \n",
              "0           0           0           1  \n",
              "1           1           0           0  \n",
              "2           0           0           1  \n",
              "3           0           0           1  \n",
              "4           0           0           1  "
            ]
          },
          "execution_count": 3,
          "metadata": {},
          "output_type": "execute_result"
        }
      ],
      "source": [
        "# One-hot encoding untuk kolom 'Embarked'\n",
        "embarked_encoded = pd.get_dummies(titanic_data['Embarked'], prefix='Embarked')\n",
        "\n",
        "# Membuat peta ordinal untuk kolom 'Sex'\n",
        "sex_mapping = {'female': 1, 'male': 0}\n",
        "\n",
        "# Mengganti nilai kategorikal dengan nilai numerik\n",
        "titanic_data['Sex Encode'] = titanic_data['Sex'].map(sex_mapping)\n",
        "\n",
        "# Gabungkan hasil encoding dengan DataFrame asli\n",
        "titanic_data = pd.concat([titanic_data, embarked_encoded], axis=1)\n",
        "\n",
        "titanic_data.head()"
      ]
    },
    {
      "cell_type": "code",
      "execution_count": null,
      "metadata": {
        "id": "-K8mVDeIQllF"
      },
      "outputs": [],
      "source": [
        "# Mengisi nilai yang hilang dalam kolom 'Age' dengan mode\n",
        "mode_age = titanic_data['Age'].mode()[0]  # Mendapatkan nilai mode\n",
        "titanic_data['Age'].fillna(mode_age, inplace=True)  # Mengisi nilai kosong dengan mode"
      ]
    },
    {
      "cell_type": "code",
      "execution_count": null,
      "metadata": {
        "colab": {
          "base_uri": "https://localhost:8080/"
        },
        "id": "0w5WYrEAQnLm",
        "outputId": "f36c3e6f-6f91-44f7-a0bf-87b34c44a2b8"
      },
      "outputs": [
        {
          "name": "stdout",
          "output_type": "stream",
          "text": [
            "<class 'pandas.core.frame.DataFrame'>\n",
            "RangeIndex: 891 entries, 0 to 890\n",
            "Data columns (total 12 columns):\n",
            " #   Column      Non-Null Count  Dtype  \n",
            "---  ------      --------------  -----  \n",
            " 0   Survived    891 non-null    int64  \n",
            " 1   Pclass      891 non-null    int64  \n",
            " 2   Sex         891 non-null    object \n",
            " 3   Age         891 non-null    float64\n",
            " 4   SibSp       891 non-null    int64  \n",
            " 5   Parch       891 non-null    int64  \n",
            " 6   Fare        891 non-null    float64\n",
            " 7   Embarked    889 non-null    object \n",
            " 8   Sex Encode  891 non-null    int64  \n",
            " 9   Embarked_C  891 non-null    uint8  \n",
            " 10  Embarked_Q  891 non-null    uint8  \n",
            " 11  Embarked_S  891 non-null    uint8  \n",
            "dtypes: float64(2), int64(5), object(2), uint8(3)\n",
            "memory usage: 65.4+ KB\n"
          ]
        }
      ],
      "source": [
        "titanic_data.info()"
      ]
    },
    {
      "cell_type": "markdown",
      "metadata": {
        "id": "wSPdQm-0QsVN"
      },
      "source": [
        "## Filter - Chi Square"
      ]
    },
    {
      "cell_type": "code",
      "execution_count": null,
      "metadata": {
        "colab": {
          "base_uri": "https://localhost:8080/"
        },
        "id": "W1fnKr5VQvxI",
        "outputId": "fa094c86-b55d-4f86-b947-9accad37008e"
      },
      "outputs": [
        {
          "data": {
            "text/plain": [
              "Index(['Survived', 'Pclass', 'Sex', 'Age', 'SibSp', 'Parch', 'Fare',\n",
              "       'Embarked', 'Sex Encode', 'Embarked_C', 'Embarked_Q', 'Embarked_S'],\n",
              "      dtype='object')"
            ]
          },
          "execution_count": 6,
          "metadata": {},
          "output_type": "execute_result"
        }
      ],
      "source": [
        "titanic_data.columns"
      ]
    },
    {
      "cell_type": "code",
      "execution_count": null,
      "metadata": {
        "colab": {
          "base_uri": "https://localhost:8080/",
          "height": 206
        },
        "id": "hdUxixyWQ0M0",
        "outputId": "e0b4c996-efa6-4d4f-ca8b-8a24215e5d4f"
      },
      "outputs": [
        {
          "data": {
            "text/html": [
              "<div>\n",
              "<style scoped>\n",
              "    .dataframe tbody tr th:only-of-type {\n",
              "        vertical-align: middle;\n",
              "    }\n",
              "\n",
              "    .dataframe tbody tr th {\n",
              "        vertical-align: top;\n",
              "    }\n",
              "\n",
              "    .dataframe thead th {\n",
              "        text-align: right;\n",
              "    }\n",
              "</style>\n",
              "<table border=\"1\" class=\"dataframe\">\n",
              "  <thead>\n",
              "    <tr style=\"text-align: right;\">\n",
              "      <th></th>\n",
              "      <th>Survived</th>\n",
              "      <th>Pclass</th>\n",
              "      <th>Sex Encode</th>\n",
              "      <th>Embarked_C</th>\n",
              "      <th>Embarked_Q</th>\n",
              "      <th>Embarked_S</th>\n",
              "    </tr>\n",
              "  </thead>\n",
              "  <tbody>\n",
              "    <tr>\n",
              "      <th>0</th>\n",
              "      <td>0</td>\n",
              "      <td>3</td>\n",
              "      <td>0</td>\n",
              "      <td>0</td>\n",
              "      <td>0</td>\n",
              "      <td>1</td>\n",
              "    </tr>\n",
              "    <tr>\n",
              "      <th>1</th>\n",
              "      <td>1</td>\n",
              "      <td>1</td>\n",
              "      <td>1</td>\n",
              "      <td>1</td>\n",
              "      <td>0</td>\n",
              "      <td>0</td>\n",
              "    </tr>\n",
              "    <tr>\n",
              "      <th>2</th>\n",
              "      <td>1</td>\n",
              "      <td>3</td>\n",
              "      <td>1</td>\n",
              "      <td>0</td>\n",
              "      <td>0</td>\n",
              "      <td>1</td>\n",
              "    </tr>\n",
              "    <tr>\n",
              "      <th>3</th>\n",
              "      <td>1</td>\n",
              "      <td>1</td>\n",
              "      <td>1</td>\n",
              "      <td>0</td>\n",
              "      <td>0</td>\n",
              "      <td>1</td>\n",
              "    </tr>\n",
              "    <tr>\n",
              "      <th>4</th>\n",
              "      <td>0</td>\n",
              "      <td>3</td>\n",
              "      <td>0</td>\n",
              "      <td>0</td>\n",
              "      <td>0</td>\n",
              "      <td>1</td>\n",
              "    </tr>\n",
              "  </tbody>\n",
              "</table>\n",
              "</div>"
            ],
            "text/plain": [
              "   Survived  Pclass  Sex Encode  Embarked_C  Embarked_Q  Embarked_S\n",
              "0         0       3           0           0           0           1\n",
              "1         1       1           1           1           0           0\n",
              "2         1       3           1           0           0           1\n",
              "3         1       1           1           0           0           1\n",
              "4         0       3           0           0           0           1"
            ]
          },
          "execution_count": 7,
          "metadata": {},
          "output_type": "execute_result"
        }
      ],
      "source": [
        "df_categorical = titanic_data[['Survived','Pclass', 'Sex Encode', 'Embarked_C', 'Embarked_Q', 'Embarked_S']]\n",
        "df_categorical.head()"
      ]
    },
    {
      "cell_type": "code",
      "execution_count": null,
      "metadata": {
        "colab": {
          "base_uri": "https://localhost:8080/",
          "height": 521
        },
        "id": "DKe4jfivQ295",
        "outputId": "692da8d4-709a-4d79-be3e-5f104c2b8dcf"
      },
      "outputs": [
        {
          "data": {
            "text/plain": [
              "(<Axes: >, '')"
            ]
          },
          "execution_count": 8,
          "metadata": {},
          "output_type": "execute_result"
        },
        {
          "data": {
            "image/png": "[encoded data removed]",
            "text/plain": [
              "<Figure size 640x480 with 1 Axes>"
            ]
          },
          "metadata": {},
          "output_type": "display_data"
        }
      ],
      "source": [
        "from sklearn.feature_selection import chi2\n",
        "\n",
        "# Pisahkan fitur dan target\n",
        "X = df_categorical.drop(['Survived'], axis=1)\n",
        "y = df_categorical['Survived']\n",
        "\n",
        "chi_scores = chi2(X,y)\n",
        "\n",
        "nilai_chi = pd.Series(chi_scores[0], index = X.columns)\n",
        "nilai_p = pd.Series(chi_scores[1], index = X.columns)\n",
        "\n",
        "nilai_chi.plot.bar(),''"
      ]
    },
    {
      "cell_type": "code",
      "execution_count": null,
      "metadata": {
        "colab": {
          "base_uri": "https://localhost:8080/",
          "height": 521
        },
        "id": "XXs6At-8Q5FA",
        "outputId": "9fc95131-d065-4565-cea7-ef8e523b5794"
      },
      "outputs": [
        {
          "data": {
            "text/plain": [
              "<Axes: >"
            ]
          },
          "execution_count": 9,
          "metadata": {},
          "output_type": "execute_result"
        },
        {
          "data": {
            "image/png": "[encoded data removed]",
            "text/plain": [
              "<Figure size 640x480 with 1 Axes>"
            ]
          },
          "metadata": {},
          "output_type": "display_data"
        }
      ],
      "source": [
        "nilai_p.plot.bar()"
      ]
    },
    {
      "cell_type": "markdown",
      "metadata": {
        "id": "gIqD5vJCQ6su"
      },
      "source": [
        "Di sini yang paling tidak pengaruh adalah kolom Embarked_Q"
      ]
    },
    {
      "cell_type": "markdown",
      "metadata": {
        "id": "riCng5x2Q9vu"
      },
      "source": [
        "## Filter - Correlation"
      ]
    },
    {
      "cell_type": "code",
      "execution_count": null,
      "metadata": {
        "id": "fdK8cFo_Q7x2"
      },
      "outputs": [],
      "source": [
        "# Menghitung korelasi antara fitur-fitur\n",
        "numeric_data = titanic_data[['Age', 'SibSp','Parch','Fare']]\n",
        "\n",
        "correlation_matrix = numeric_data.corr()"
      ]
    },
    {
      "cell_type": "code",
      "execution_count": null,
      "metadata": {
        "colab": {
          "base_uri": "https://localhost:8080/",
          "height": 662
        },
        "id": "VA1z1iSyRDYa",
        "outputId": "b2a76624-c897-42b7-b4e9-1f642482f9eb"
      },
      "outputs": [
        {
          "data": {
            "image/png": "[encoded data removed]",
            "text/plain": [
              "<Figure size 1200x800 with 2 Axes>"
            ]
          },
          "metadata": {},
          "output_type": "display_data"
        }
      ],
      "source": [
        "# Menampilkan heatmap korelasi\n",
        "plt.figure(figsize=(12, 8))\n",
        "sns.heatmap(correlation_matrix, annot=True, cmap='coolwarm', fmt='.2f')\n",
        "plt.title('Heatmap Korelasi Fitur Titanic', fontsize=15)\n",
        "plt.show()"
      ]
    },
    {
      "cell_type": "markdown",
      "metadata": {
        "id": "PIvsVPh2RHkv"
      },
      "source": [
        "## Cek Keseimbangan Data"
      ]
    },
    {
      "cell_type": "code",
      "execution_count": null,
      "metadata": {
        "colab": {
          "base_uri": "https://localhost:8080/",
          "height": 423
        },
        "id": "MOpxx1EgRMFU",
        "outputId": "c29500e8-2665-41d3-d454-a6e97962f234"
      },
      "outputs": [
        {
          "data": {
            "text/html": [
              "<div>\n",
              "<style scoped>\n",
              "    .dataframe tbody tr th:only-of-type {\n",
              "        vertical-align: middle;\n",
              "    }\n",
              "\n",
              "    .dataframe tbody tr th {\n",
              "        vertical-align: top;\n",
              "    }\n",
              "\n",
              "    .dataframe thead th {\n",
              "        text-align: right;\n",
              "    }\n",
              "</style>\n",
              "<table border=\"1\" class=\"dataframe\">\n",
              "  <thead>\n",
              "    <tr style=\"text-align: right;\">\n",
              "      <th></th>\n",
              "      <th>Pclass</th>\n",
              "      <th>Age</th>\n",
              "      <th>SibSp</th>\n",
              "      <th>Parch</th>\n",
              "      <th>Fare</th>\n",
              "      <th>Sex Encode</th>\n",
              "      <th>Embarked_C</th>\n",
              "      <th>Embarked_Q</th>\n",
              "      <th>Embarked_S</th>\n",
              "    </tr>\n",
              "  </thead>\n",
              "  <tbody>\n",
              "    <tr>\n",
              "      <th>0</th>\n",
              "      <td>3</td>\n",
              "      <td>22.0</td>\n",
              "      <td>1</td>\n",
              "      <td>0</td>\n",
              "      <td>7.2500</td>\n",
              "      <td>0</td>\n",
              "      <td>0</td>\n",
              "      <td>0</td>\n",
              "      <td>1</td>\n",
              "    </tr>\n",
              "    <tr>\n",
              "      <th>1</th>\n",
              "      <td>1</td>\n",
              "      <td>38.0</td>\n",
              "      <td>1</td>\n",
              "      <td>0</td>\n",
              "      <td>71.2833</td>\n",
              "      <td>1</td>\n",
              "      <td>1</td>\n",
              "      <td>0</td>\n",
              "      <td>0</td>\n",
              "    </tr>\n",
              "    <tr>\n",
              "      <th>2</th>\n",
              "      <td>3</td>\n",
              "      <td>26.0</td>\n",
              "      <td>0</td>\n",
              "      <td>0</td>\n",
              "      <td>7.9250</td>\n",
              "      <td>1</td>\n",
              "      <td>0</td>\n",
              "      <td>0</td>\n",
              "      <td>1</td>\n",
              "    </tr>\n",
              "    <tr>\n",
              "      <th>3</th>\n",
              "      <td>1</td>\n",
              "      <td>35.0</td>\n",
              "      <td>1</td>\n",
              "      <td>0</td>\n",
              "      <td>53.1000</td>\n",
              "      <td>1</td>\n",
              "      <td>0</td>\n",
              "      <td>0</td>\n",
              "      <td>1</td>\n",
              "    </tr>\n",
              "    <tr>\n",
              "      <th>4</th>\n",
              "      <td>3</td>\n",
              "      <td>35.0</td>\n",
              "      <td>0</td>\n",
              "      <td>0</td>\n",
              "      <td>8.0500</td>\n",
              "      <td>0</td>\n",
              "      <td>0</td>\n",
              "      <td>0</td>\n",
              "      <td>1</td>\n",
              "    </tr>\n",
              "  </tbody>\n",
              "</table>\n",
              "</div>"
            ],
            "text/plain": [
              "   Pclass   Age  SibSp  Parch     Fare  Sex Encode  Embarked_C  Embarked_Q  \\\n",
              "0       3  22.0      1      0   7.2500           0           0           0   \n",
              "1       1  38.0      1      0  71.2833           1           1           0   \n",
              "2       3  26.0      0      0   7.9250           1           0           0   \n",
              "3       1  35.0      1      0  53.1000           1           0           0   \n",
              "4       3  35.0      0      0   8.0500           0           0           0   \n",
              "\n",
              "   Embarked_S  \n",
              "0           1  \n",
              "1           0  \n",
              "2           1  \n",
              "3           1  \n",
              "4           1  "
            ]
          },
          "execution_count": 12,
          "metadata": {},
          "output_type": "execute_result"
        }
      ],
      "source": [
        "X = titanic_data.drop(['Survived','Embarked','Sex'], axis=1)\n",
        "y = titanic_data['Survived']\n",
        "\n",
        "X.head()"
      ]
    },
    {
      "cell_type": "code",
      "execution_count": null,
      "metadata": {
        "colab": {
          "base_uri": "https://localhost:8080/",
          "height": 423
        },
        "id": "gSz7R7SdRRXI",
        "outputId": "d39ab405-9973-48b0-fe2b-5bcb2a47f939"
      },
      "outputs": [
        {
          "data": {
            "text/html": [
              "<div>\n",
              "<style scoped>\n",
              "    .dataframe tbody tr th:only-of-type {\n",
              "        vertical-align: middle;\n",
              "    }\n",
              "\n",
              "    .dataframe tbody tr th {\n",
              "        vertical-align: top;\n",
              "    }\n",
              "\n",
              "    .dataframe thead th {\n",
              "        text-align: right;\n",
              "    }\n",
              "</style>\n",
              "<table border=\"1\" class=\"dataframe\">\n",
              "  <thead>\n",
              "    <tr style=\"text-align: right;\">\n",
              "      <th></th>\n",
              "      <th>Pclass</th>\n",
              "      <th>Age</th>\n",
              "      <th>SibSp</th>\n",
              "      <th>Parch</th>\n",
              "      <th>Fare</th>\n",
              "      <th>Sex Encode</th>\n",
              "      <th>Embarked_C</th>\n",
              "      <th>Embarked_Q</th>\n",
              "      <th>Embarked_S</th>\n",
              "    </tr>\n",
              "  </thead>\n",
              "  <tbody>\n",
              "    <tr>\n",
              "      <th>140</th>\n",
              "      <td>3</td>\n",
              "      <td>24.0</td>\n",
              "      <td>0</td>\n",
              "      <td>2</td>\n",
              "      <td>15.2458</td>\n",
              "      <td>1</td>\n",
              "      <td>1</td>\n",
              "      <td>0</td>\n",
              "      <td>0</td>\n",
              "    </tr>\n",
              "    <tr>\n",
              "      <th>439</th>\n",
              "      <td>2</td>\n",
              "      <td>31.0</td>\n",
              "      <td>0</td>\n",
              "      <td>0</td>\n",
              "      <td>10.5000</td>\n",
              "      <td>0</td>\n",
              "      <td>0</td>\n",
              "      <td>0</td>\n",
              "      <td>1</td>\n",
              "    </tr>\n",
              "    <tr>\n",
              "      <th>817</th>\n",
              "      <td>2</td>\n",
              "      <td>31.0</td>\n",
              "      <td>1</td>\n",
              "      <td>1</td>\n",
              "      <td>37.0042</td>\n",
              "      <td>0</td>\n",
              "      <td>1</td>\n",
              "      <td>0</td>\n",
              "      <td>0</td>\n",
              "    </tr>\n",
              "    <tr>\n",
              "      <th>378</th>\n",
              "      <td>3</td>\n",
              "      <td>20.0</td>\n",
              "      <td>0</td>\n",
              "      <td>0</td>\n",
              "      <td>4.0125</td>\n",
              "      <td>0</td>\n",
              "      <td>1</td>\n",
              "      <td>0</td>\n",
              "      <td>0</td>\n",
              "    </tr>\n",
              "    <tr>\n",
              "      <th>491</th>\n",
              "      <td>3</td>\n",
              "      <td>21.0</td>\n",
              "      <td>0</td>\n",
              "      <td>0</td>\n",
              "      <td>7.2500</td>\n",
              "      <td>0</td>\n",
              "      <td>0</td>\n",
              "      <td>0</td>\n",
              "      <td>1</td>\n",
              "    </tr>\n",
              "  </tbody>\n",
              "</table>\n",
              "</div>"
            ],
            "text/plain": [
              "     Pclass   Age  SibSp  Parch     Fare  Sex Encode  Embarked_C  Embarked_Q  \\\n",
              "140       3  24.0      0      2  15.2458           1           1           0   \n",
              "439       2  31.0      0      0  10.5000           0           0           0   \n",
              "817       2  31.0      1      1  37.0042           0           1           0   \n",
              "378       3  20.0      0      0   4.0125           0           1           0   \n",
              "491       3  21.0      0      0   7.2500           0           0           0   \n",
              "\n",
              "     Embarked_S  \n",
              "140           0  \n",
              "439           1  \n",
              "817           0  \n",
              "378           0  \n",
              "491           1  "
            ]
          },
          "execution_count": 13,
          "metadata": {},
          "output_type": "execute_result"
        }
      ],
      "source": [
        "# Bagi data menjadi data latih dan data uji\n",
        "X_train, X_test, y_train, y_test = train_test_split(X, y, test_size=0.2, random_state=0)\n",
        "\n",
        "X_train.head()"
      ]
    },
    {
      "cell_type": "code",
      "execution_count": null,
      "metadata": {
        "colab": {
          "base_uri": "https://localhost:8080/"
        },
        "id": "svKFizMiS-z8",
        "outputId": "ebffe302-04fe-4470-9ab2-7d852c1e4559"
      },
      "outputs": [
        {
          "data": {
            "text/plain": [
              "(712, 9)"
            ]
          },
          "execution_count": 14,
          "metadata": {},
          "output_type": "execute_result"
        }
      ],
      "source": [
        "X_train.shape"
      ]
    },
    {
      "cell_type": "code",
      "execution_count": null,
      "metadata": {
        "colab": {
          "base_uri": "https://localhost:8080/",
          "height": 523
        },
        "id": "XjZRrn1XRUyq",
        "outputId": "235e6ca3-05f7-451f-c6be-ec428acd5f8d"
      },
      "outputs": [
        {
          "data": {
            "image/png": "[encoded data removed]",
            "text/plain": [
              "<Figure size 400x400 with 1 Axes>"
            ]
          },
          "metadata": {},
          "output_type": "display_data"
        },
        {
          "name": "stdout",
          "output_type": "stream",
          "text": [
            "Jumlah Survived:\n",
            "0    439\n",
            "1    273\n",
            "Name: Survived, dtype: int64\n",
            "\n",
            "Persentase Survived:\n",
            "0    61.657303\n",
            "1    38.342697\n",
            "Name: Survived, dtype: float64\n"
          ]
        }
      ],
      "source": [
        "# Hitung jumlah dan persentase survived\n",
        "survived_count = y_train.value_counts()\n",
        "survived_count\n",
        "survived_percentage = y_train.value_counts(normalize=True) * 100\n",
        "\n",
        "# Buat pie chart\n",
        "plt.figure(figsize=(4, 4))  # Ubah ukuran gambar menjadi 4x4\n",
        "plt.pie(survived_count, labels=['Not Survived', 'Survived'], autopct='%1.1f%%', startangle=140)\n",
        "plt.title('Pie Chart of Survived')\n",
        "plt.axis('equal')  # Untuk memastikan lingkaran berbentuk lingkaran\n",
        "plt.show()\n",
        "\n",
        "# Tampilkan jumlah dan persentase survived\n",
        "print(\"Jumlah Survived:\")\n",
        "print(survived_count)\n",
        "print(\"\\nPersentase Survived:\")\n",
        "print(survived_percentage)"
      ]
    },
    {
      "cell_type": "code",
      "execution_count": null,
      "metadata": {
        "colab": {
          "base_uri": "https://localhost:8080/",
          "height": 423
        },
        "id": "JmKM49lqRdQm",
        "outputId": "117d92dd-ccb5-4bc1-b08b-84ff64002dc8"
      },
      "outputs": [
        {
          "data": {
            "text/html": [
              "<div>\n",
              "<style scoped>\n",
              "    .dataframe tbody tr th:only-of-type {\n",
              "        vertical-align: middle;\n",
              "    }\n",
              "\n",
              "    .dataframe tbody tr th {\n",
              "        vertical-align: top;\n",
              "    }\n",
              "\n",
              "    .dataframe thead th {\n",
              "        text-align: right;\n",
              "    }\n",
              "</style>\n",
              "<table border=\"1\" class=\"dataframe\">\n",
              "  <thead>\n",
              "    <tr style=\"text-align: right;\">\n",
              "      <th></th>\n",
              "      <th>Pclass</th>\n",
              "      <th>Age</th>\n",
              "      <th>SibSp</th>\n",
              "      <th>Parch</th>\n",
              "      <th>Fare</th>\n",
              "      <th>Sex Encode</th>\n",
              "      <th>Embarked_C</th>\n",
              "      <th>Embarked_Q</th>\n",
              "      <th>Embarked_S</th>\n",
              "      <th>Survived</th>\n",
              "    </tr>\n",
              "  </thead>\n",
              "  <tbody>\n",
              "    <tr>\n",
              "      <th>0</th>\n",
              "      <td>3</td>\n",
              "      <td>24.0</td>\n",
              "      <td>0</td>\n",
              "      <td>2</td>\n",
              "      <td>15.2458</td>\n",
              "      <td>1</td>\n",
              "      <td>1</td>\n",
              "      <td>0</td>\n",
              "      <td>0</td>\n",
              "      <td>0</td>\n",
              "    </tr>\n",
              "    <tr>\n",
              "      <th>1</th>\n",
              "      <td>2</td>\n",
              "      <td>31.0</td>\n",
              "      <td>0</td>\n",
              "      <td>0</td>\n",
              "      <td>10.5000</td>\n",
              "      <td>0</td>\n",
              "      <td>0</td>\n",
              "      <td>0</td>\n",
              "      <td>1</td>\n",
              "      <td>0</td>\n",
              "    </tr>\n",
              "    <tr>\n",
              "      <th>2</th>\n",
              "      <td>2</td>\n",
              "      <td>31.0</td>\n",
              "      <td>1</td>\n",
              "      <td>1</td>\n",
              "      <td>37.0042</td>\n",
              "      <td>0</td>\n",
              "      <td>1</td>\n",
              "      <td>0</td>\n",
              "      <td>0</td>\n",
              "      <td>0</td>\n",
              "    </tr>\n",
              "    <tr>\n",
              "      <th>3</th>\n",
              "      <td>3</td>\n",
              "      <td>20.0</td>\n",
              "      <td>0</td>\n",
              "      <td>0</td>\n",
              "      <td>4.0125</td>\n",
              "      <td>0</td>\n",
              "      <td>1</td>\n",
              "      <td>0</td>\n",
              "      <td>0</td>\n",
              "      <td>0</td>\n",
              "    </tr>\n",
              "    <tr>\n",
              "      <th>4</th>\n",
              "      <td>3</td>\n",
              "      <td>21.0</td>\n",
              "      <td>0</td>\n",
              "      <td>0</td>\n",
              "      <td>7.2500</td>\n",
              "      <td>0</td>\n",
              "      <td>0</td>\n",
              "      <td>0</td>\n",
              "      <td>1</td>\n",
              "      <td>0</td>\n",
              "    </tr>\n",
              "    <tr>\n",
              "      <th>...</th>\n",
              "      <td>...</td>\n",
              "      <td>...</td>\n",
              "      <td>...</td>\n",
              "      <td>...</td>\n",
              "      <td>...</td>\n",
              "      <td>...</td>\n",
              "      <td>...</td>\n",
              "      <td>...</td>\n",
              "      <td>...</td>\n",
              "      <td>...</td>\n",
              "    </tr>\n",
              "    <tr>\n",
              "      <th>873</th>\n",
              "      <td>2</td>\n",
              "      <td>34.0</td>\n",
              "      <td>0</td>\n",
              "      <td>1</td>\n",
              "      <td>23.0000</td>\n",
              "      <td>1</td>\n",
              "      <td>0</td>\n",
              "      <td>0</td>\n",
              "      <td>1</td>\n",
              "      <td>1</td>\n",
              "    </tr>\n",
              "    <tr>\n",
              "      <th>874</th>\n",
              "      <td>1</td>\n",
              "      <td>24.0</td>\n",
              "      <td>1</td>\n",
              "      <td>0</td>\n",
              "      <td>51.8625</td>\n",
              "      <td>1</td>\n",
              "      <td>0</td>\n",
              "      <td>0</td>\n",
              "      <td>1</td>\n",
              "      <td>1</td>\n",
              "    </tr>\n",
              "    <tr>\n",
              "      <th>875</th>\n",
              "      <td>1</td>\n",
              "      <td>49.0</td>\n",
              "      <td>1</td>\n",
              "      <td>0</td>\n",
              "      <td>76.7292</td>\n",
              "      <td>1</td>\n",
              "      <td>1</td>\n",
              "      <td>0</td>\n",
              "      <td>0</td>\n",
              "      <td>1</td>\n",
              "    </tr>\n",
              "    <tr>\n",
              "      <th>876</th>\n",
              "      <td>3</td>\n",
              "      <td>1.0</td>\n",
              "      <td>1</td>\n",
              "      <td>2</td>\n",
              "      <td>20.5750</td>\n",
              "      <td>0</td>\n",
              "      <td>0</td>\n",
              "      <td>0</td>\n",
              "      <td>1</td>\n",
              "      <td>1</td>\n",
              "    </tr>\n",
              "    <tr>\n",
              "      <th>877</th>\n",
              "      <td>1</td>\n",
              "      <td>35.0</td>\n",
              "      <td>1</td>\n",
              "      <td>0</td>\n",
              "      <td>53.1000</td>\n",
              "      <td>1</td>\n",
              "      <td>0</td>\n",
              "      <td>0</td>\n",
              "      <td>1</td>\n",
              "      <td>1</td>\n",
              "    </tr>\n",
              "  </tbody>\n",
              "</table>\n",
              "<p>878 rows × 10 columns</p>\n",
              "</div>"
            ],
            "text/plain": [
              "     Pclass   Age  SibSp  Parch     Fare  Sex Encode  Embarked_C  Embarked_Q  \\\n",
              "0         3  24.0      0      2  15.2458           1           1           0   \n",
              "1         2  31.0      0      0  10.5000           0           0           0   \n",
              "2         2  31.0      1      1  37.0042           0           1           0   \n",
              "3         3  20.0      0      0   4.0125           0           1           0   \n",
              "4         3  21.0      0      0   7.2500           0           0           0   \n",
              "..      ...   ...    ...    ...      ...         ...         ...         ...   \n",
              "873       2  34.0      0      1  23.0000           1           0           0   \n",
              "874       1  24.0      1      0  51.8625           1           0           0   \n",
              "875       1  49.0      1      0  76.7292           1           1           0   \n",
              "876       3   1.0      1      2  20.5750           0           0           0   \n",
              "877       1  35.0      1      0  53.1000           1           0           0   \n",
              "\n",
              "     Embarked_S  Survived  \n",
              "0             0         0  \n",
              "1             1         0  \n",
              "2             0         0  \n",
              "3             0         0  \n",
              "4             1         0  \n",
              "..          ...       ...  \n",
              "873           1         1  \n",
              "874           1         1  \n",
              "875           0         1  \n",
              "876           1         1  \n",
              "877           1         1  \n",
              "\n",
              "[878 rows x 10 columns]"
            ]
          },
          "execution_count": 16,
          "metadata": {},
          "output_type": "execute_result"
        }
      ],
      "source": [
        "from imblearn.over_sampling import RandomOverSampler\n",
        "\n",
        "X_train_oversampled = X_train\n",
        "y_train_oversampled = y_train\n",
        "\n",
        "ros = RandomOverSampler(random_state=0)\n",
        "X_resampled, y_resampled = ros.fit_resample(X_train_oversampled, y_train_oversampled)\n",
        "\n",
        "# Konversi hasil oversampling menjadi DataFrame\n",
        "df_oversampled = pd.DataFrame(X_resampled, columns=X.columns)\n",
        "df_oversampled['Survived'] = y_resampled\n",
        "\n",
        "df_oversampled"
      ]
    },
    {
      "cell_type": "code",
      "execution_count": null,
      "metadata": {
        "colab": {
          "base_uri": "https://localhost:8080/",
          "height": 523
        },
        "id": "Q4Yy5LwSSFAa",
        "outputId": "d674858c-0f27-4636-c7e3-bcc56503f313"
      },
      "outputs": [
        {
          "data": {
            "image/png": "[encoded data removed]",
            "text/plain": [
              "<Figure size 400x400 with 1 Axes>"
            ]
          },
          "metadata": {},
          "output_type": "display_data"
        },
        {
          "name": "stdout",
          "output_type": "stream",
          "text": [
            "Jumlah Survived:\n",
            "0    439\n",
            "1    439\n",
            "Name: Survived, dtype: int64\n",
            "\n",
            "Persentase Survived:\n",
            "0    50.0\n",
            "1    50.0\n",
            "Name: Survived, dtype: float64\n"
          ]
        }
      ],
      "source": [
        "# Hitung jumlah dan persentase survived\n",
        "survived_count = df_oversampled['Survived'].value_counts()\n",
        "survived_count\n",
        "survived_percentage = df_oversampled['Survived'].value_counts(normalize=True) * 100\n",
        "\n",
        "# Buat pie chart\n",
        "plt.figure(figsize=(4, 4))  # Ubah ukuran gambar menjadi 4x4\n",
        "plt.pie(survived_count, labels=['Not Survived', 'Survived'], autopct='%1.1f%%', startangle=140)\n",
        "plt.title('Pie Chart of Survived')\n",
        "plt.axis('equal')  # Untuk memastikan lingkaran berbentuk lingkaran\n",
        "plt.show()\n",
        "\n",
        "# Tampilkan jumlah dan persentase survived\n",
        "print(\"Jumlah Survived:\")\n",
        "print(survived_count)\n",
        "print(\"\\nPersentase Survived:\")\n",
        "print(survived_percentage)"
      ]
    },
    {
      "cell_type": "markdown",
      "metadata": {
        "id": "SdokORUgUOqY"
      },
      "source": [
        "## Filter - Menghitung Akurasi Sebelum & Sesudah Seleksi Fitur"
      ]
    },
    {
      "cell_type": "code",
      "execution_count": null,
      "metadata": {
        "colab": {
          "base_uri": "https://localhost:8080/"
        },
        "id": "7g7TEnkbURfq",
        "outputId": "73e42fda-fdbe-4392-c587-8f19dca6954b"
      },
      "outputs": [
        {
          "data": {
            "text/plain": [
              "Index(['Pclass', 'Age', 'SibSp', 'Parch', 'Fare', 'Sex Encode', 'Embarked_C',\n",
              "       'Embarked_Q', 'Embarked_S', 'Survived'],\n",
              "      dtype='object')"
            ]
          },
          "execution_count": 18,
          "metadata": {},
          "output_type": "execute_result"
        }
      ],
      "source": [
        "df_oversampled.columns"
      ]
    },
    {
      "cell_type": "code",
      "execution_count": null,
      "metadata": {
        "colab": {
          "base_uri": "https://localhost:8080/"
        },
        "id": "ETU8_bgJVCoA",
        "outputId": "fe8c6c66-48b2-4d7a-e5cb-5548f6242c98"
      },
      "outputs": [
        {
          "name": "stdout",
          "output_type": "stream",
          "text": [
            "Akurasi model Random Forest dengan seluruh fitur:  0.8435754189944135\n"
          ]
        }
      ],
      "source": [
        "X_train = df_oversampled.drop(['Survived'], axis=1)\n",
        "y_train = df_oversampled['Survived']\n",
        "\n",
        "# model Random Forest\n",
        "model = RandomForestClassifier(n_estimators=100, random_state=0)\n",
        "model.fit(X_train, y_train)\n",
        "\n",
        "y_pred = model.predict(X_test)\n",
        "accuracy = accuracy_score(y_test, y_pred)\n",
        "\n",
        "print(\"Akurasi model Random Forest dengan seluruh fitur: \", accuracy)"
      ]
    },
    {
      "cell_type": "code",
      "execution_count": null,
      "metadata": {
        "colab": {
          "base_uri": "https://localhost:8080/"
        },
        "id": "NhKh3L01Wfbn",
        "outputId": "1a406df7-1d24-4624-9bae-58e55e83b162"
      },
      "outputs": [
        {
          "data": {
            "text/plain": [
              "Index(['Pclass', 'Age', 'SibSp', 'Parch', 'Fare', 'Sex Encode', 'Embarked_C',\n",
              "       'Embarked_Q', 'Embarked_S'],\n",
              "      dtype='object')"
            ]
          },
          "execution_count": 20,
          "metadata": {},
          "output_type": "execute_result"
        }
      ],
      "source": [
        "X_train.columns"
      ]
    },
    {
      "cell_type": "code",
      "execution_count": null,
      "metadata": {
        "colab": {
          "base_uri": "https://localhost:8080/",
          "height": 423
        },
        "id": "eOCAdH-ZYAMT",
        "outputId": "87867eb0-a46d-4037-e6a8-e0adf8741715"
      },
      "outputs": [
        {
          "data": {
            "text/html": [
              "<div>\n",
              "<style scoped>\n",
              "    .dataframe tbody tr th:only-of-type {\n",
              "        vertical-align: middle;\n",
              "    }\n",
              "\n",
              "    .dataframe tbody tr th {\n",
              "        vertical-align: top;\n",
              "    }\n",
              "\n",
              "    .dataframe thead th {\n",
              "        text-align: right;\n",
              "    }\n",
              "</style>\n",
              "<table border=\"1\" class=\"dataframe\">\n",
              "  <thead>\n",
              "    <tr style=\"text-align: right;\">\n",
              "      <th></th>\n",
              "      <th>Pclass</th>\n",
              "      <th>Age</th>\n",
              "      <th>SibSp</th>\n",
              "      <th>Parch</th>\n",
              "      <th>Fare</th>\n",
              "      <th>Sex Encode</th>\n",
              "      <th>Embarked_C</th>\n",
              "      <th>Embarked_Q</th>\n",
              "      <th>Embarked_S</th>\n",
              "      <th>Survived</th>\n",
              "    </tr>\n",
              "  </thead>\n",
              "  <tbody>\n",
              "    <tr>\n",
              "      <th>0</th>\n",
              "      <td>3</td>\n",
              "      <td>24.0</td>\n",
              "      <td>0</td>\n",
              "      <td>2</td>\n",
              "      <td>15.2458</td>\n",
              "      <td>1</td>\n",
              "      <td>1</td>\n",
              "      <td>0</td>\n",
              "      <td>0</td>\n",
              "      <td>0</td>\n",
              "    </tr>\n",
              "    <tr>\n",
              "      <th>1</th>\n",
              "      <td>2</td>\n",
              "      <td>31.0</td>\n",
              "      <td>0</td>\n",
              "      <td>0</td>\n",
              "      <td>10.5000</td>\n",
              "      <td>0</td>\n",
              "      <td>0</td>\n",
              "      <td>0</td>\n",
              "      <td>1</td>\n",
              "      <td>0</td>\n",
              "    </tr>\n",
              "    <tr>\n",
              "      <th>2</th>\n",
              "      <td>2</td>\n",
              "      <td>31.0</td>\n",
              "      <td>1</td>\n",
              "      <td>1</td>\n",
              "      <td>37.0042</td>\n",
              "      <td>0</td>\n",
              "      <td>1</td>\n",
              "      <td>0</td>\n",
              "      <td>0</td>\n",
              "      <td>0</td>\n",
              "    </tr>\n",
              "    <tr>\n",
              "      <th>3</th>\n",
              "      <td>3</td>\n",
              "      <td>20.0</td>\n",
              "      <td>0</td>\n",
              "      <td>0</td>\n",
              "      <td>4.0125</td>\n",
              "      <td>0</td>\n",
              "      <td>1</td>\n",
              "      <td>0</td>\n",
              "      <td>0</td>\n",
              "      <td>0</td>\n",
              "    </tr>\n",
              "    <tr>\n",
              "      <th>4</th>\n",
              "      <td>3</td>\n",
              "      <td>21.0</td>\n",
              "      <td>0</td>\n",
              "      <td>0</td>\n",
              "      <td>7.2500</td>\n",
              "      <td>0</td>\n",
              "      <td>0</td>\n",
              "      <td>0</td>\n",
              "      <td>1</td>\n",
              "      <td>0</td>\n",
              "    </tr>\n",
              "  </tbody>\n",
              "</table>\n",
              "</div>"
            ],
            "text/plain": [
              "   Pclass   Age  SibSp  Parch     Fare  Sex Encode  Embarked_C  Embarked_Q  \\\n",
              "0       3  24.0      0      2  15.2458           1           1           0   \n",
              "1       2  31.0      0      0  10.5000           0           0           0   \n",
              "2       2  31.0      1      1  37.0042           0           1           0   \n",
              "3       3  20.0      0      0   4.0125           0           1           0   \n",
              "4       3  21.0      0      0   7.2500           0           0           0   \n",
              "\n",
              "   Embarked_S  Survived  \n",
              "0           0         0  \n",
              "1           1         0  \n",
              "2           0         0  \n",
              "3           0         0  \n",
              "4           1         0  "
            ]
          },
          "execution_count": 21,
          "metadata": {},
          "output_type": "execute_result"
        }
      ],
      "source": [
        "df_oversampled.head()"
      ]
    },
    {
      "cell_type": "code",
      "execution_count": null,
      "metadata": {
        "colab": {
          "base_uri": "https://localhost:8080/",
          "height": 423
        },
        "id": "e3HSDt8sVZPM",
        "outputId": "820b78fc-147f-4ed6-c11a-7b3c26146d6c"
      },
      "outputs": [
        {
          "data": {
            "text/html": [
              "<div>\n",
              "<style scoped>\n",
              "    .dataframe tbody tr th:only-of-type {\n",
              "        vertical-align: middle;\n",
              "    }\n",
              "\n",
              "    .dataframe tbody tr th {\n",
              "        vertical-align: top;\n",
              "    }\n",
              "\n",
              "    .dataframe thead th {\n",
              "        text-align: right;\n",
              "    }\n",
              "</style>\n",
              "<table border=\"1\" class=\"dataframe\">\n",
              "  <thead>\n",
              "    <tr style=\"text-align: right;\">\n",
              "      <th></th>\n",
              "      <th>Pclass</th>\n",
              "      <th>Age</th>\n",
              "      <th>SibSp</th>\n",
              "      <th>Parch</th>\n",
              "      <th>Fare</th>\n",
              "      <th>Sex Encode</th>\n",
              "      <th>Embarked_C</th>\n",
              "      <th>Embarked_S</th>\n",
              "    </tr>\n",
              "  </thead>\n",
              "  <tbody>\n",
              "    <tr>\n",
              "      <th>0</th>\n",
              "      <td>3</td>\n",
              "      <td>24.0</td>\n",
              "      <td>0</td>\n",
              "      <td>2</td>\n",
              "      <td>15.2458</td>\n",
              "      <td>1</td>\n",
              "      <td>1</td>\n",
              "      <td>0</td>\n",
              "    </tr>\n",
              "    <tr>\n",
              "      <th>1</th>\n",
              "      <td>2</td>\n",
              "      <td>31.0</td>\n",
              "      <td>0</td>\n",
              "      <td>0</td>\n",
              "      <td>10.5000</td>\n",
              "      <td>0</td>\n",
              "      <td>0</td>\n",
              "      <td>1</td>\n",
              "    </tr>\n",
              "    <tr>\n",
              "      <th>2</th>\n",
              "      <td>2</td>\n",
              "      <td>31.0</td>\n",
              "      <td>1</td>\n",
              "      <td>1</td>\n",
              "      <td>37.0042</td>\n",
              "      <td>0</td>\n",
              "      <td>1</td>\n",
              "      <td>0</td>\n",
              "    </tr>\n",
              "    <tr>\n",
              "      <th>3</th>\n",
              "      <td>3</td>\n",
              "      <td>20.0</td>\n",
              "      <td>0</td>\n",
              "      <td>0</td>\n",
              "      <td>4.0125</td>\n",
              "      <td>0</td>\n",
              "      <td>1</td>\n",
              "      <td>0</td>\n",
              "    </tr>\n",
              "    <tr>\n",
              "      <th>4</th>\n",
              "      <td>3</td>\n",
              "      <td>21.0</td>\n",
              "      <td>0</td>\n",
              "      <td>0</td>\n",
              "      <td>7.2500</td>\n",
              "      <td>0</td>\n",
              "      <td>0</td>\n",
              "      <td>1</td>\n",
              "    </tr>\n",
              "  </tbody>\n",
              "</table>\n",
              "</div>"
            ],
            "text/plain": [
              "   Pclass   Age  SibSp  Parch     Fare  Sex Encode  Embarked_C  Embarked_S\n",
              "0       3  24.0      0      2  15.2458           1           1           0\n",
              "1       2  31.0      0      0  10.5000           0           0           1\n",
              "2       2  31.0      1      1  37.0042           0           1           0\n",
              "3       3  20.0      0      0   4.0125           0           1           0\n",
              "4       3  21.0      0      0   7.2500           0           0           1"
            ]
          },
          "execution_count": 22,
          "metadata": {},
          "output_type": "execute_result"
        }
      ],
      "source": [
        "X_train = df_oversampled.drop(['Survived','Embarked_Q'], axis=1)\n",
        "y_train = df_oversampled['Survived']\n",
        "\n",
        "X_train.head()"
      ]
    },
    {
      "cell_type": "code",
      "execution_count": null,
      "metadata": {
        "colab": {
          "base_uri": "https://localhost:8080/",
          "height": 423
        },
        "id": "kveWd4N_Wp0A",
        "outputId": "a3cddd3e-8ec6-4efe-9bf2-40068f636450"
      },
      "outputs": [
        {
          "data": {
            "text/html": [
              "<div>\n",
              "<style scoped>\n",
              "    .dataframe tbody tr th:only-of-type {\n",
              "        vertical-align: middle;\n",
              "    }\n",
              "\n",
              "    .dataframe tbody tr th {\n",
              "        vertical-align: top;\n",
              "    }\n",
              "\n",
              "    .dataframe thead th {\n",
              "        text-align: right;\n",
              "    }\n",
              "</style>\n",
              "<table border=\"1\" class=\"dataframe\">\n",
              "  <thead>\n",
              "    <tr style=\"text-align: right;\">\n",
              "      <th></th>\n",
              "      <th>Pclass</th>\n",
              "      <th>Age</th>\n",
              "      <th>SibSp</th>\n",
              "      <th>Parch</th>\n",
              "      <th>Fare</th>\n",
              "      <th>Sex Encode</th>\n",
              "      <th>Embarked_C</th>\n",
              "      <th>Embarked_S</th>\n",
              "    </tr>\n",
              "  </thead>\n",
              "  <tbody>\n",
              "    <tr>\n",
              "      <th>495</th>\n",
              "      <td>3</td>\n",
              "      <td>24.0</td>\n",
              "      <td>0</td>\n",
              "      <td>0</td>\n",
              "      <td>14.4583</td>\n",
              "      <td>0</td>\n",
              "      <td>1</td>\n",
              "      <td>0</td>\n",
              "    </tr>\n",
              "    <tr>\n",
              "      <th>648</th>\n",
              "      <td>3</td>\n",
              "      <td>24.0</td>\n",
              "      <td>0</td>\n",
              "      <td>0</td>\n",
              "      <td>7.5500</td>\n",
              "      <td>0</td>\n",
              "      <td>0</td>\n",
              "      <td>1</td>\n",
              "    </tr>\n",
              "    <tr>\n",
              "      <th>278</th>\n",
              "      <td>3</td>\n",
              "      <td>7.0</td>\n",
              "      <td>4</td>\n",
              "      <td>1</td>\n",
              "      <td>29.1250</td>\n",
              "      <td>0</td>\n",
              "      <td>0</td>\n",
              "      <td>0</td>\n",
              "    </tr>\n",
              "    <tr>\n",
              "      <th>31</th>\n",
              "      <td>1</td>\n",
              "      <td>24.0</td>\n",
              "      <td>1</td>\n",
              "      <td>0</td>\n",
              "      <td>146.5208</td>\n",
              "      <td>1</td>\n",
              "      <td>1</td>\n",
              "      <td>0</td>\n",
              "    </tr>\n",
              "    <tr>\n",
              "      <th>255</th>\n",
              "      <td>3</td>\n",
              "      <td>29.0</td>\n",
              "      <td>0</td>\n",
              "      <td>2</td>\n",
              "      <td>15.2458</td>\n",
              "      <td>1</td>\n",
              "      <td>1</td>\n",
              "      <td>0</td>\n",
              "    </tr>\n",
              "    <tr>\n",
              "      <th>...</th>\n",
              "      <td>...</td>\n",
              "      <td>...</td>\n",
              "      <td>...</td>\n",
              "      <td>...</td>\n",
              "      <td>...</td>\n",
              "      <td>...</td>\n",
              "      <td>...</td>\n",
              "      <td>...</td>\n",
              "    </tr>\n",
              "    <tr>\n",
              "      <th>780</th>\n",
              "      <td>3</td>\n",
              "      <td>13.0</td>\n",
              "      <td>0</td>\n",
              "      <td>0</td>\n",
              "      <td>7.2292</td>\n",
              "      <td>1</td>\n",
              "      <td>1</td>\n",
              "      <td>0</td>\n",
              "    </tr>\n",
              "    <tr>\n",
              "      <th>837</th>\n",
              "      <td>3</td>\n",
              "      <td>24.0</td>\n",
              "      <td>0</td>\n",
              "      <td>0</td>\n",
              "      <td>8.0500</td>\n",
              "      <td>0</td>\n",
              "      <td>0</td>\n",
              "      <td>1</td>\n",
              "    </tr>\n",
              "    <tr>\n",
              "      <th>215</th>\n",
              "      <td>1</td>\n",
              "      <td>31.0</td>\n",
              "      <td>1</td>\n",
              "      <td>0</td>\n",
              "      <td>113.2750</td>\n",
              "      <td>1</td>\n",
              "      <td>1</td>\n",
              "      <td>0</td>\n",
              "    </tr>\n",
              "    <tr>\n",
              "      <th>833</th>\n",
              "      <td>3</td>\n",
              "      <td>23.0</td>\n",
              "      <td>0</td>\n",
              "      <td>0</td>\n",
              "      <td>7.8542</td>\n",
              "      <td>0</td>\n",
              "      <td>0</td>\n",
              "      <td>1</td>\n",
              "    </tr>\n",
              "    <tr>\n",
              "      <th>372</th>\n",
              "      <td>3</td>\n",
              "      <td>19.0</td>\n",
              "      <td>0</td>\n",
              "      <td>0</td>\n",
              "      <td>8.0500</td>\n",
              "      <td>0</td>\n",
              "      <td>0</td>\n",
              "      <td>1</td>\n",
              "    </tr>\n",
              "  </tbody>\n",
              "</table>\n",
              "<p>179 rows × 8 columns</p>\n",
              "</div>"
            ],
            "text/plain": [
              "     Pclass   Age  SibSp  Parch      Fare  Sex Encode  Embarked_C  Embarked_S\n",
              "495       3  24.0      0      0   14.4583           0           1           0\n",
              "648       3  24.0      0      0    7.5500           0           0           1\n",
              "278       3   7.0      4      1   29.1250           0           0           0\n",
              "31        1  24.0      1      0  146.5208           1           1           0\n",
              "255       3  29.0      0      2   15.2458           1           1           0\n",
              "..      ...   ...    ...    ...       ...         ...         ...         ...\n",
              "780       3  13.0      0      0    7.2292           1           1           0\n",
              "837       3  24.0      0      0    8.0500           0           0           1\n",
              "215       1  31.0      1      0  113.2750           1           1           0\n",
              "833       3  23.0      0      0    7.8542           0           0           1\n",
              "372       3  19.0      0      0    8.0500           0           0           1\n",
              "\n",
              "[179 rows x 8 columns]"
            ]
          },
          "execution_count": 23,
          "metadata": {},
          "output_type": "execute_result"
        }
      ],
      "source": [
        "X_test_filter = X_test.drop(['Embarked_Q'], axis=1)\n",
        "X_test_filter"
      ]
    },
    {
      "cell_type": "code",
      "execution_count": null,
      "metadata": {
        "colab": {
          "base_uri": "https://localhost:8080/"
        },
        "id": "apc2F-09YRzC",
        "outputId": "b7c51045-69a1-4ff8-d9c0-676700e70adf"
      },
      "outputs": [
        {
          "name": "stdout",
          "output_type": "stream",
          "text": [
            "Akurasi model Random Forest setelah hapus fitur Embarked_Q : 0.8324022346368715\n"
          ]
        }
      ],
      "source": [
        "model = RandomForestClassifier(n_estimators=100, random_state=0)\n",
        "model.fit(X_train, y_train)\n",
        "\n",
        "# Evaluasi model tanpa penyertaan fitur, 'Embarked_Q'\n",
        "y_pred = model.predict(X_test_filter)\n",
        "accuracy = accuracy_score(y_test,y_pred)\n",
        "\n",
        "print(\"Akurasi model Random Forest setelah hapus fitur Embarked_Q :\", accuracy)"
      ]
    },
    {
      "cell_type": "markdown",
      "metadata": {
        "id": "11T72xF5Ywbj"
      },
      "source": [
        "## Wrapper - Forward Selection"
      ]
    },
    {
      "cell_type": "code",
      "execution_count": null,
      "metadata": {
        "id": "2jzYY6TRYycK"
      },
      "outputs": [],
      "source": [
        "from mlxtend.feature_selection import SequentialFeatureSelector\n",
        "from sklearn.ensemble import RandomForestClassifier"
      ]
    },
    {
      "cell_type": "code",
      "execution_count": null,
      "metadata": {
        "colab": {
          "base_uri": "https://localhost:8080/",
          "height": 423
        },
        "id": "WPQP7iIXZDNR",
        "outputId": "6f9496c8-d7c1-47ef-a239-12d37dd74dc9"
      },
      "outputs": [
        {
          "data": {
            "text/html": [
              "<div>\n",
              "<style scoped>\n",
              "    .dataframe tbody tr th:only-of-type {\n",
              "        vertical-align: middle;\n",
              "    }\n",
              "\n",
              "    .dataframe tbody tr th {\n",
              "        vertical-align: top;\n",
              "    }\n",
              "\n",
              "    .dataframe thead th {\n",
              "        text-align: right;\n",
              "    }\n",
              "</style>\n",
              "<table border=\"1\" class=\"dataframe\">\n",
              "  <thead>\n",
              "    <tr style=\"text-align: right;\">\n",
              "      <th></th>\n",
              "      <th>Pclass</th>\n",
              "      <th>Age</th>\n",
              "      <th>SibSp</th>\n",
              "      <th>Parch</th>\n",
              "      <th>Fare</th>\n",
              "      <th>Sex Encode</th>\n",
              "      <th>Embarked_C</th>\n",
              "      <th>Embarked_Q</th>\n",
              "      <th>Embarked_S</th>\n",
              "      <th>Survived</th>\n",
              "    </tr>\n",
              "  </thead>\n",
              "  <tbody>\n",
              "    <tr>\n",
              "      <th>0</th>\n",
              "      <td>3</td>\n",
              "      <td>24.0</td>\n",
              "      <td>0</td>\n",
              "      <td>2</td>\n",
              "      <td>15.2458</td>\n",
              "      <td>1</td>\n",
              "      <td>1</td>\n",
              "      <td>0</td>\n",
              "      <td>0</td>\n",
              "      <td>0</td>\n",
              "    </tr>\n",
              "    <tr>\n",
              "      <th>1</th>\n",
              "      <td>2</td>\n",
              "      <td>31.0</td>\n",
              "      <td>0</td>\n",
              "      <td>0</td>\n",
              "      <td>10.5000</td>\n",
              "      <td>0</td>\n",
              "      <td>0</td>\n",
              "      <td>0</td>\n",
              "      <td>1</td>\n",
              "      <td>0</td>\n",
              "    </tr>\n",
              "    <tr>\n",
              "      <th>2</th>\n",
              "      <td>2</td>\n",
              "      <td>31.0</td>\n",
              "      <td>1</td>\n",
              "      <td>1</td>\n",
              "      <td>37.0042</td>\n",
              "      <td>0</td>\n",
              "      <td>1</td>\n",
              "      <td>0</td>\n",
              "      <td>0</td>\n",
              "      <td>0</td>\n",
              "    </tr>\n",
              "    <tr>\n",
              "      <th>3</th>\n",
              "      <td>3</td>\n",
              "      <td>20.0</td>\n",
              "      <td>0</td>\n",
              "      <td>0</td>\n",
              "      <td>4.0125</td>\n",
              "      <td>0</td>\n",
              "      <td>1</td>\n",
              "      <td>0</td>\n",
              "      <td>0</td>\n",
              "      <td>0</td>\n",
              "    </tr>\n",
              "    <tr>\n",
              "      <th>4</th>\n",
              "      <td>3</td>\n",
              "      <td>21.0</td>\n",
              "      <td>0</td>\n",
              "      <td>0</td>\n",
              "      <td>7.2500</td>\n",
              "      <td>0</td>\n",
              "      <td>0</td>\n",
              "      <td>0</td>\n",
              "      <td>1</td>\n",
              "      <td>0</td>\n",
              "    </tr>\n",
              "  </tbody>\n",
              "</table>\n",
              "</div>"
            ],
            "text/plain": [
              "   Pclass   Age  SibSp  Parch     Fare  Sex Encode  Embarked_C  Embarked_Q  \\\n",
              "0       3  24.0      0      2  15.2458           1           1           0   \n",
              "1       2  31.0      0      0  10.5000           0           0           0   \n",
              "2       2  31.0      1      1  37.0042           0           1           0   \n",
              "3       3  20.0      0      0   4.0125           0           1           0   \n",
              "4       3  21.0      0      0   7.2500           0           0           0   \n",
              "\n",
              "   Embarked_S  Survived  \n",
              "0           0         0  \n",
              "1           1         0  \n",
              "2           0         0  \n",
              "3           0         0  \n",
              "4           1         0  "
            ]
          },
          "execution_count": 26,
          "metadata": {},
          "output_type": "execute_result"
        }
      ],
      "source": [
        "df_oversampled.head()"
      ]
    },
    {
      "cell_type": "code",
      "execution_count": null,
      "metadata": {
        "colab": {
          "base_uri": "https://localhost:8080/",
          "height": 206
        },
        "id": "w2cwaN2gY-Dm",
        "outputId": "63fac76f-a139-42a5-e385-9aa2d0096a9a"
      },
      "outputs": [
        {
          "data": {
            "text/html": [
              "<div>\n",
              "<style scoped>\n",
              "    .dataframe tbody tr th:only-of-type {\n",
              "        vertical-align: middle;\n",
              "    }\n",
              "\n",
              "    .dataframe tbody tr th {\n",
              "        vertical-align: top;\n",
              "    }\n",
              "\n",
              "    .dataframe thead th {\n",
              "        text-align: right;\n",
              "    }\n",
              "</style>\n",
              "<table border=\"1\" class=\"dataframe\">\n",
              "  <thead>\n",
              "    <tr style=\"text-align: right;\">\n",
              "      <th></th>\n",
              "      <th>Pclass</th>\n",
              "      <th>Age</th>\n",
              "      <th>SibSp</th>\n",
              "      <th>Parch</th>\n",
              "      <th>Fare</th>\n",
              "      <th>Sex Encode</th>\n",
              "      <th>Embarked_C</th>\n",
              "      <th>Embarked_Q</th>\n",
              "      <th>Embarked_S</th>\n",
              "    </tr>\n",
              "  </thead>\n",
              "  <tbody>\n",
              "    <tr>\n",
              "      <th>0</th>\n",
              "      <td>3</td>\n",
              "      <td>24.0</td>\n",
              "      <td>0</td>\n",
              "      <td>2</td>\n",
              "      <td>15.2458</td>\n",
              "      <td>1</td>\n",
              "      <td>1</td>\n",
              "      <td>0</td>\n",
              "      <td>0</td>\n",
              "    </tr>\n",
              "    <tr>\n",
              "      <th>1</th>\n",
              "      <td>2</td>\n",
              "      <td>31.0</td>\n",
              "      <td>0</td>\n",
              "      <td>0</td>\n",
              "      <td>10.5000</td>\n",
              "      <td>0</td>\n",
              "      <td>0</td>\n",
              "      <td>0</td>\n",
              "      <td>1</td>\n",
              "    </tr>\n",
              "    <tr>\n",
              "      <th>2</th>\n",
              "      <td>2</td>\n",
              "      <td>31.0</td>\n",
              "      <td>1</td>\n",
              "      <td>1</td>\n",
              "      <td>37.0042</td>\n",
              "      <td>0</td>\n",
              "      <td>1</td>\n",
              "      <td>0</td>\n",
              "      <td>0</td>\n",
              "    </tr>\n",
              "    <tr>\n",
              "      <th>3</th>\n",
              "      <td>3</td>\n",
              "      <td>20.0</td>\n",
              "      <td>0</td>\n",
              "      <td>0</td>\n",
              "      <td>4.0125</td>\n",
              "      <td>0</td>\n",
              "      <td>1</td>\n",
              "      <td>0</td>\n",
              "      <td>0</td>\n",
              "    </tr>\n",
              "    <tr>\n",
              "      <th>4</th>\n",
              "      <td>3</td>\n",
              "      <td>21.0</td>\n",
              "      <td>0</td>\n",
              "      <td>0</td>\n",
              "      <td>7.2500</td>\n",
              "      <td>0</td>\n",
              "      <td>0</td>\n",
              "      <td>0</td>\n",
              "      <td>1</td>\n",
              "    </tr>\n",
              "  </tbody>\n",
              "</table>\n",
              "</div>"
            ],
            "text/plain": [
              "   Pclass   Age  SibSp  Parch     Fare  Sex Encode  Embarked_C  Embarked_Q  \\\n",
              "0       3  24.0      0      2  15.2458           1           1           0   \n",
              "1       2  31.0      0      0  10.5000           0           0           0   \n",
              "2       2  31.0      1      1  37.0042           0           1           0   \n",
              "3       3  20.0      0      0   4.0125           0           1           0   \n",
              "4       3  21.0      0      0   7.2500           0           0           0   \n",
              "\n",
              "   Embarked_S  \n",
              "0           0  \n",
              "1           1  \n",
              "2           0  \n",
              "3           0  \n",
              "4           1  "
            ]
          },
          "execution_count": 27,
          "metadata": {},
          "output_type": "execute_result"
        }
      ],
      "source": [
        "X_train = df_oversampled.drop(['Survived'], axis=1)\n",
        "y_train = df_oversampled['Survived']\n",
        "X_train.head()"
      ]
    },
    {
      "cell_type": "code",
      "execution_count": null,
      "metadata": {
        "colab": {
          "base_uri": "https://localhost:8080/"
        },
        "id": "2wSOszCqZh4C",
        "outputId": "4d5cb512-0f4f-4bfc-d33a-cf93191bc11d"
      },
      "outputs": [
        {
          "name": "stderr",
          "output_type": "stream",
          "text": [
            "[Parallel(n_jobs=1)]: Using backend SequentialBackend with 1 concurrent workers.\n"
          ]
        },
        {
          "name": "stderr",
          "output_type": "stream",
          "text": [
            "[Parallel(n_jobs=1)]: Done   1 out of   1 | elapsed:    3.0s remaining:    0.0s\n",
            "[Parallel(n_jobs=1)]: Done   9 out of   9 | elapsed:    7.2s finished\n",
            "\n",
            "[2024-04-09 11:19:17] Features: 1/9 -- score: 0.7642597402597403[Parallel(n_jobs=1)]: Using backend SequentialBackend with 1 concurrent workers.\n",
            "[Parallel(n_jobs=1)]: Done   1 out of   1 | elapsed:    0.5s remaining:    0.0s\n",
            "[Parallel(n_jobs=1)]: Done   8 out of   8 | elapsed:    4.6s finished\n",
            "\n",
            "[2024-04-09 11:19:21] Features: 2/9 -- score: 0.8292207792207794[Parallel(n_jobs=1)]: Using backend SequentialBackend with 1 concurrent workers.\n",
            "[Parallel(n_jobs=1)]: Done   1 out of   1 | elapsed:    0.5s remaining:    0.0s\n",
            "[Parallel(n_jobs=1)]: Done   7 out of   7 | elapsed:    4.2s finished\n",
            "\n",
            "[2024-04-09 11:19:25] Features: 3/9 -- score: 0.8326363636363636[Parallel(n_jobs=1)]: Using backend SequentialBackend with 1 concurrent workers.\n",
            "[Parallel(n_jobs=1)]: Done   1 out of   1 | elapsed:    0.6s remaining:    0.0s\n",
            "[Parallel(n_jobs=1)]: Done   6 out of   6 | elapsed:    3.5s finished\n",
            "\n",
            "[2024-04-09 11:19:29] Features: 4/9 -- score: 0.8577272727272728[Parallel(n_jobs=1)]: Using backend SequentialBackend with 1 concurrent workers.\n",
            "[Parallel(n_jobs=1)]: Done   1 out of   1 | elapsed:    0.5s remaining:    0.0s\n",
            "[Parallel(n_jobs=1)]: Done   5 out of   5 | elapsed:    2.9s finished\n",
            "\n",
            "[2024-04-09 11:19:32] Features: 5/9 -- score: 0.8622922077922077[Parallel(n_jobs=1)]: Using backend SequentialBackend with 1 concurrent workers.\n",
            "[Parallel(n_jobs=1)]: Done   1 out of   1 | elapsed:    0.5s remaining:    0.0s\n",
            "[Parallel(n_jobs=1)]: Done   4 out of   4 | elapsed:    2.3s finished\n",
            "\n",
            "[2024-04-09 11:19:35] Features: 6/9 -- score: 0.8588636363636365[Parallel(n_jobs=1)]: Using backend SequentialBackend with 1 concurrent workers.\n",
            "[Parallel(n_jobs=1)]: Done   1 out of   1 | elapsed:    0.7s remaining:    0.0s\n",
            "[Parallel(n_jobs=1)]: Done   3 out of   3 | elapsed:    1.9s finished\n",
            "\n",
            "[2024-04-09 11:19:37] Features: 7/9 -- score: 0.8508896103896104[Parallel(n_jobs=1)]: Using backend SequentialBackend with 1 concurrent workers.\n",
            "[Parallel(n_jobs=1)]: Done   1 out of   1 | elapsed:    0.6s remaining:    0.0s\n",
            "[Parallel(n_jobs=1)]: Done   2 out of   2 | elapsed:    1.2s finished\n",
            "\n",
            "[2024-04-09 11:19:38] Features: 8/9 -- score: 0.8429155844155843[Parallel(n_jobs=1)]: Using backend SequentialBackend with 1 concurrent workers.\n",
            "[Parallel(n_jobs=1)]: Done   1 out of   1 | elapsed:    0.5s remaining:    0.0s\n",
            "[Parallel(n_jobs=1)]: Done   1 out of   1 | elapsed:    0.5s finished\n",
            "\n",
            "[2024-04-09 11:19:38] Features: 9/9 -- score: 0.8452012987012987"
          ]
        }
      ],
      "source": [
        "forward_feature_selection = SequentialFeatureSelector(RandomForestClassifier(n_jobs=-1, random_state=0),\n",
        "                                                      k_features=(1,9),\n",
        "                                                      forward=True,\n",
        "                                                      floating=False,\n",
        "                                                      verbose=2,\n",
        "                                                      scoring=\"accuracy\",\n",
        "                                                      cv=5).fit(X_train, y_train)"
      ]
    },
    {
      "cell_type": "code",
      "execution_count": null,
      "metadata": {
        "colab": {
          "base_uri": "https://localhost:8080/"
        },
        "id": "y3TPTW9-Z3rb",
        "outputId": "7ed5fed2-501f-486d-da78-1de76f0d7e88"
      },
      "outputs": [
        {
          "data": {
            "text/plain": [
              "(0, 1, 2, 4, 5)"
            ]
          },
          "execution_count": 29,
          "metadata": {},
          "output_type": "execute_result"
        }
      ],
      "source": [
        "forward_feature_selection.k_feature_idx_"
      ]
    },
    {
      "cell_type": "code",
      "execution_count": null,
      "metadata": {
        "colab": {
          "base_uri": "https://localhost:8080/"
        },
        "id": "PvMSMZu5Z38z",
        "outputId": "4409ed76-0cbf-410a-a557-376c5d61c998"
      },
      "outputs": [
        {
          "data": {
            "text/plain": [
              "['Pclass', 'Age', 'SibSp', 'Fare', 'Sex Encode']"
            ]
          },
          "execution_count": 30,
          "metadata": {},
          "output_type": "execute_result"
        }
      ],
      "source": [
        "f_feature_names = forward_feature_selection.k_feature_names_\n",
        "f_feature_names = list(f_feature_names)\n",
        "f_feature_names"
      ]
    },
    {
      "cell_type": "code",
      "execution_count": null,
      "metadata": {
        "colab": {
          "base_uri": "https://localhost:8080/"
        },
        "id": "oTiMluduZ4_e",
        "outputId": "6b8c4e03-c029-429b-b0e9-f8280768db2b"
      },
      "outputs": [
        {
          "data": {
            "text/plain": [
              "0.8622922077922077"
            ]
          },
          "execution_count": 31,
          "metadata": {},
          "output_type": "execute_result"
        }
      ],
      "source": [
        "forward_feature_selection.k_score_"
      ]
    },
    {
      "cell_type": "code",
      "execution_count": null,
      "metadata": {
        "colab": {
          "base_uri": "https://localhost:8080/",
          "height": 557
        },
        "id": "HNQI-Bd8Z6K2",
        "outputId": "e2f04e71-1683-44d0-d3a7-d909cf336e41"
      },
      "outputs": [
        {
          "data": {
            "text/html": [
              "<div>\n",
              "<style scoped>\n",
              "    .dataframe tbody tr th:only-of-type {\n",
              "        vertical-align: middle;\n",
              "    }\n",
              "\n",
              "    .dataframe tbody tr th {\n",
              "        vertical-align: top;\n",
              "    }\n",
              "\n",
              "    .dataframe thead th {\n",
              "        text-align: right;\n",
              "    }\n",
              "</style>\n",
              "<table border=\"1\" class=\"dataframe\">\n",
              "  <thead>\n",
              "    <tr style=\"text-align: right;\">\n",
              "      <th></th>\n",
              "      <th>feature_idx</th>\n",
              "      <th>cv_scores</th>\n",
              "      <th>avg_score</th>\n",
              "      <th>feature_names</th>\n",
              "      <th>ci_bound</th>\n",
              "      <th>std_dev</th>\n",
              "      <th>std_err</th>\n",
              "    </tr>\n",
              "  </thead>\n",
              "  <tbody>\n",
              "    <tr>\n",
              "      <th>1</th>\n",
              "      <td>(5,)</td>\n",
              "      <td>[0.7443181818181818, 0.7727272727272727, 0.755...</td>\n",
              "      <td>0.76426</td>\n",
              "      <td>(Sex Encode,)</td>\n",
              "      <td>0.026129</td>\n",
              "      <td>0.020329</td>\n",
              "      <td>0.010165</td>\n",
              "    </tr>\n",
              "    <tr>\n",
              "      <th>2</th>\n",
              "      <td>(4, 5)</td>\n",
              "      <td>[0.8125, 0.8181818181818182, 0.801136363636363...</td>\n",
              "      <td>0.829221</td>\n",
              "      <td>(Fare, Sex Encode)</td>\n",
              "      <td>0.030496</td>\n",
              "      <td>0.023727</td>\n",
              "      <td>0.011863</td>\n",
              "    </tr>\n",
              "    <tr>\n",
              "      <th>3</th>\n",
              "      <td>(0, 4, 5)</td>\n",
              "      <td>[0.8238636363636364, 0.8352272727272727, 0.784...</td>\n",
              "      <td>0.832636</td>\n",
              "      <td>(Pclass, Fare, Sex Encode)</td>\n",
              "      <td>0.036145</td>\n",
              "      <td>0.028122</td>\n",
              "      <td>0.014061</td>\n",
              "    </tr>\n",
              "    <tr>\n",
              "      <th>4</th>\n",
              "      <td>(0, 1, 4, 5)</td>\n",
              "      <td>[0.8465909090909091, 0.8068181818181818, 0.835...</td>\n",
              "      <td>0.857727</td>\n",
              "      <td>(Pclass, Age, Fare, Sex Encode)</td>\n",
              "      <td>0.051791</td>\n",
              "      <td>0.040295</td>\n",
              "      <td>0.020147</td>\n",
              "    </tr>\n",
              "    <tr>\n",
              "      <th>5</th>\n",
              "      <td>(0, 1, 2, 4, 5)</td>\n",
              "      <td>[0.8295454545454546, 0.8238636363636364, 0.840...</td>\n",
              "      <td>0.862292</td>\n",
              "      <td>(Pclass, Age, SibSp, Fare, Sex Encode)</td>\n",
              "      <td>0.052476</td>\n",
              "      <td>0.040828</td>\n",
              "      <td>0.020414</td>\n",
              "    </tr>\n",
              "    <tr>\n",
              "      <th>6</th>\n",
              "      <td>(0, 1, 2, 3, 4, 5)</td>\n",
              "      <td>[0.8238636363636364, 0.8295454545454546, 0.840...</td>\n",
              "      <td>0.858864</td>\n",
              "      <td>(Pclass, Age, SibSp, Parch, Fare, Sex Encode)</td>\n",
              "      <td>0.04848</td>\n",
              "      <td>0.037719</td>\n",
              "      <td>0.01886</td>\n",
              "    </tr>\n",
              "    <tr>\n",
              "      <th>7</th>\n",
              "      <td>(0, 1, 2, 3, 4, 5, 7)</td>\n",
              "      <td>[0.8011363636363636, 0.8409090909090909, 0.829...</td>\n",
              "      <td>0.85089</td>\n",
              "      <td>(Pclass, Age, SibSp, Parch, Fare, Sex Encode, ...</td>\n",
              "      <td>0.04932</td>\n",
              "      <td>0.038373</td>\n",
              "      <td>0.019186</td>\n",
              "    </tr>\n",
              "    <tr>\n",
              "      <th>8</th>\n",
              "      <td>(0, 1, 2, 3, 4, 5, 6, 7)</td>\n",
              "      <td>[0.7897727272727273, 0.8125, 0.846590909090909...</td>\n",
              "      <td>0.842916</td>\n",
              "      <td>(Pclass, Age, SibSp, Parch, Fare, Sex Encode, ...</td>\n",
              "      <td>0.048435</td>\n",
              "      <td>0.037684</td>\n",
              "      <td>0.018842</td>\n",
              "    </tr>\n",
              "    <tr>\n",
              "      <th>9</th>\n",
              "      <td>(0, 1, 2, 3, 4, 5, 6, 7, 8)</td>\n",
              "      <td>[0.8011363636363636, 0.8125, 0.835227272727272...</td>\n",
              "      <td>0.845201</td>\n",
              "      <td>(Pclass, Age, SibSp, Parch, Fare, Sex Encode, ...</td>\n",
              "      <td>0.050348</td>\n",
              "      <td>0.039173</td>\n",
              "      <td>0.019586</td>\n",
              "    </tr>\n",
              "  </tbody>\n",
              "</table>\n",
              "</div>"
            ],
            "text/plain": [
              "                   feature_idx  \\\n",
              "1                         (5,)   \n",
              "2                       (4, 5)   \n",
              "3                    (0, 4, 5)   \n",
              "4                 (0, 1, 4, 5)   \n",
              "5              (0, 1, 2, 4, 5)   \n",
              "6           (0, 1, 2, 3, 4, 5)   \n",
              "7        (0, 1, 2, 3, 4, 5, 7)   \n",
              "8     (0, 1, 2, 3, 4, 5, 6, 7)   \n",
              "9  (0, 1, 2, 3, 4, 5, 6, 7, 8)   \n",
              "\n",
              "                                           cv_scores avg_score  \\\n",
              "1  [0.7443181818181818, 0.7727272727272727, 0.755...   0.76426   \n",
              "2  [0.8125, 0.8181818181818182, 0.801136363636363...  0.829221   \n",
              "3  [0.8238636363636364, 0.8352272727272727, 0.784...  0.832636   \n",
              "4  [0.8465909090909091, 0.8068181818181818, 0.835...  0.857727   \n",
              "5  [0.8295454545454546, 0.8238636363636364, 0.840...  0.862292   \n",
              "6  [0.8238636363636364, 0.8295454545454546, 0.840...  0.858864   \n",
              "7  [0.8011363636363636, 0.8409090909090909, 0.829...   0.85089   \n",
              "8  [0.7897727272727273, 0.8125, 0.846590909090909...  0.842916   \n",
              "9  [0.8011363636363636, 0.8125, 0.835227272727272...  0.845201   \n",
              "\n",
              "                                       feature_names  ci_bound   std_dev  \\\n",
              "1                                      (Sex Encode,)  0.026129  0.020329   \n",
              "2                                 (Fare, Sex Encode)  0.030496  0.023727   \n",
              "3                         (Pclass, Fare, Sex Encode)  0.036145  0.028122   \n",
              "4                    (Pclass, Age, Fare, Sex Encode)  0.051791  0.040295   \n",
              "5             (Pclass, Age, SibSp, Fare, Sex Encode)  0.052476  0.040828   \n",
              "6      (Pclass, Age, SibSp, Parch, Fare, Sex Encode)   0.04848  0.037719   \n",
              "7  (Pclass, Age, SibSp, Parch, Fare, Sex Encode, ...   0.04932  0.038373   \n",
              "8  (Pclass, Age, SibSp, Parch, Fare, Sex Encode, ...  0.048435  0.037684   \n",
              "9  (Pclass, Age, SibSp, Parch, Fare, Sex Encode, ...  0.050348  0.039173   \n",
              "\n",
              "    std_err  \n",
              "1  0.010165  \n",
              "2  0.011863  \n",
              "3  0.014061  \n",
              "4  0.020147  \n",
              "5  0.020414  \n",
              "6   0.01886  \n",
              "7  0.019186  \n",
              "8  0.018842  \n",
              "9  0.019586  "
            ]
          },
          "execution_count": 32,
          "metadata": {},
          "output_type": "execute_result"
        }
      ],
      "source": [
        "pd.DataFrame.from_dict(forward_feature_selection.get_metric_dict()).T"
      ]
    },
    {
      "cell_type": "code",
      "execution_count": null,
      "metadata": {
        "id": "kDB-DEJm4n5i"
      },
      "outputs": [],
      "source": [
        "X_train_sel = X_train[f_feature_names]\n",
        "X_test_sel = X_test[f_feature_names]"
      ]
    },
    {
      "cell_type": "code",
      "execution_count": null,
      "metadata": {
        "id": "HaIMSUrK4n5i",
        "outputId": "b72f3591-5f6e-4a1b-ea4f-d8118ab1b3c8"
      },
      "outputs": [
        {
          "name": "stdout",
          "output_type": "stream",
          "text": [
            "Akurasi model Random Forest Forward Selection 0.8379888268156425\n"
          ]
        }
      ],
      "source": [
        "model = RandomForestClassifier(n_estimators=100, random_state=0)\n",
        "model.fit(X_train_sel, y_train)\n",
        "\n",
        "y_pred = model.predict(X_test_sel)\n",
        "accuracy = accuracy_score(y_test,y_pred)\n",
        "\n",
        "print(\"Akurasi model Random Forest Forward Selection\", accuracy)"
      ]
    },
    {
      "cell_type": "markdown",
      "metadata": {
        "id": "qEwjzChlZ_RR"
      },
      "source": [
        "## Wrapper - Backward Selection"
      ]
    },
    {
      "cell_type": "code",
      "execution_count": null,
      "metadata": {
        "id": "YZNGmZXdZ7h8"
      },
      "outputs": [],
      "source": [
        "X_train = df_oversampled.drop(['Survived'], axis=1)\n",
        "y_train = df_oversampled['Survived']"
      ]
    },
    {
      "cell_type": "code",
      "execution_count": null,
      "metadata": {
        "colab": {
          "base_uri": "https://localhost:8080/"
        },
        "id": "YwfxTQu4a5z5",
        "outputId": "e69106a8-ef2a-4352-8a6f-d68c2515f049"
      },
      "outputs": [
        {
          "name": "stderr",
          "output_type": "stream",
          "text": [
            "[Parallel(n_jobs=1)]: Using backend SequentialBackend with 1 concurrent workers.\n"
          ]
        },
        {
          "name": "stderr",
          "output_type": "stream",
          "text": [
            "[Parallel(n_jobs=1)]: Done   1 out of   1 | elapsed:    0.4s remaining:    0.0s\n",
            "[Parallel(n_jobs=1)]: Done   9 out of   9 | elapsed:    4.7s finished\n",
            "\n",
            "[2024-04-09 11:19:44] Features: 8/1 -- score: 0.8440714285714286[Parallel(n_jobs=1)]: Using backend SequentialBackend with 1 concurrent workers.\n",
            "[Parallel(n_jobs=1)]: Done   1 out of   1 | elapsed:    0.4s remaining:    0.0s\n",
            "[Parallel(n_jobs=1)]: Done   8 out of   8 | elapsed:    8.2s finished\n",
            "\n",
            "[2024-04-09 11:19:53] Features: 7/1 -- score: 0.8497597402597403[Parallel(n_jobs=1)]: Using backend SequentialBackend with 1 concurrent workers.\n",
            "[Parallel(n_jobs=1)]: Done   1 out of   1 | elapsed:    1.7s remaining:    0.0s\n",
            "[Parallel(n_jobs=1)]: Done   7 out of   7 | elapsed:   12.1s finished\n",
            "\n",
            "[2024-04-09 11:20:05] Features: 6/1 -- score: 0.8554610389610391[Parallel(n_jobs=1)]: Using backend SequentialBackend with 1 concurrent workers.\n",
            "[Parallel(n_jobs=1)]: Done   1 out of   1 | elapsed:    0.4s remaining:    0.0s\n",
            "[Parallel(n_jobs=1)]: Done   6 out of   6 | elapsed:    3.2s finished\n",
            "\n",
            "[2024-04-09 11:20:08] Features: 5/1 -- score: 0.8622922077922077[Parallel(n_jobs=1)]: Using backend SequentialBackend with 1 concurrent workers.\n",
            "[Parallel(n_jobs=1)]: Done   1 out of   1 | elapsed:    0.5s remaining:    0.0s\n",
            "[Parallel(n_jobs=1)]: Done   5 out of   5 | elapsed:    2.6s finished\n",
            "\n",
            "[2024-04-09 11:20:11] Features: 4/1 -- score: 0.8577272727272728[Parallel(n_jobs=1)]: Using backend SequentialBackend with 1 concurrent workers.\n",
            "[Parallel(n_jobs=1)]: Done   1 out of   1 | elapsed:    0.4s remaining:    0.0s\n",
            "[Parallel(n_jobs=1)]: Done   4 out of   4 | elapsed:    2.0s finished\n",
            "\n",
            "[2024-04-09 11:20:13] Features: 3/1 -- score: 0.8326363636363636[Parallel(n_jobs=1)]: Using backend SequentialBackend with 1 concurrent workers.\n",
            "[Parallel(n_jobs=1)]: Done   1 out of   1 | elapsed:    0.4s remaining:    0.0s\n",
            "[Parallel(n_jobs=1)]: Done   3 out of   3 | elapsed:    1.5s finished\n",
            "\n",
            "[2024-04-09 11:20:14] Features: 2/1 -- score: 0.8292207792207794[Parallel(n_jobs=1)]: Using backend SequentialBackend with 1 concurrent workers.\n",
            "[Parallel(n_jobs=1)]: Done   1 out of   1 | elapsed:    0.4s remaining:    0.0s\n",
            "[Parallel(n_jobs=1)]: Done   2 out of   2 | elapsed:    0.9s finished\n",
            "\n",
            "[2024-04-09 11:20:15] Features: 1/1 -- score: 0.7642597402597403"
          ]
        }
      ],
      "source": [
        "backward_feature_selection = SequentialFeatureSelector(RandomForestClassifier(n_jobs=-1, random_state=0),\n",
        "                                                      k_features=(1,9),\n",
        "                                                      forward=False,\n",
        "                                                      floating=False,\n",
        "                                                      verbose=2,\n",
        "                                                      scoring=\"accuracy\",\n",
        "                                                      cv=5).fit(X_train, y_train)"
      ]
    },
    {
      "cell_type": "code",
      "execution_count": null,
      "metadata": {
        "colab": {
          "base_uri": "https://localhost:8080/"
        },
        "id": "kdgp0Joga9Dt",
        "outputId": "3ca684ea-d70e-47c7-b522-ca7140ed8d22"
      },
      "outputs": [
        {
          "data": {
            "text/plain": [
              "(0, 1, 2, 4, 5)"
            ]
          },
          "execution_count": 37,
          "metadata": {},
          "output_type": "execute_result"
        }
      ],
      "source": [
        "backward_feature_selection.k_feature_idx_"
      ]
    },
    {
      "cell_type": "code",
      "execution_count": null,
      "metadata": {
        "colab": {
          "base_uri": "https://localhost:8080/"
        },
        "id": "dCTP9qDWa97z",
        "outputId": "c5cf7271-c708-40f7-ffd8-b4b86fc3ce07"
      },
      "outputs": [
        {
          "data": {
            "text/plain": [
              "['Pclass', 'Age', 'SibSp', 'Fare', 'Sex Encode']"
            ]
          },
          "execution_count": 38,
          "metadata": {},
          "output_type": "execute_result"
        }
      ],
      "source": [
        "b_feature_names = backward_feature_selection.k_feature_names_\n",
        "b_feature_names = list(b_feature_names)\n",
        "b_feature_names"
      ]
    },
    {
      "cell_type": "code",
      "execution_count": null,
      "metadata": {
        "colab": {
          "base_uri": "https://localhost:8080/"
        },
        "id": "tiNv8nhna-1M",
        "outputId": "b88479ea-1e1e-415b-a121-42a4e2c2d411"
      },
      "outputs": [
        {
          "data": {
            "text/plain": [
              "0.8622922077922077"
            ]
          },
          "execution_count": 39,
          "metadata": {},
          "output_type": "execute_result"
        }
      ],
      "source": [
        "backward_feature_selection.k_score_"
      ]
    },
    {
      "cell_type": "code",
      "execution_count": null,
      "metadata": {
        "colab": {
          "base_uri": "https://localhost:8080/",
          "height": 574
        },
        "id": "eQPzFUlYbAlU",
        "outputId": "56952082-0387-408f-e011-9e03189f61e8"
      },
      "outputs": [
        {
          "data": {
            "text/html": [
              "<div>\n",
              "<style scoped>\n",
              "    .dataframe tbody tr th:only-of-type {\n",
              "        vertical-align: middle;\n",
              "    }\n",
              "\n",
              "    .dataframe tbody tr th {\n",
              "        vertical-align: top;\n",
              "    }\n",
              "\n",
              "    .dataframe thead th {\n",
              "        text-align: right;\n",
              "    }\n",
              "</style>\n",
              "<table border=\"1\" class=\"dataframe\">\n",
              "  <thead>\n",
              "    <tr style=\"text-align: right;\">\n",
              "      <th></th>\n",
              "      <th>feature_idx</th>\n",
              "      <th>cv_scores</th>\n",
              "      <th>avg_score</th>\n",
              "      <th>feature_names</th>\n",
              "      <th>ci_bound</th>\n",
              "      <th>std_dev</th>\n",
              "      <th>std_err</th>\n",
              "    </tr>\n",
              "  </thead>\n",
              "  <tbody>\n",
              "    <tr>\n",
              "      <th>9</th>\n",
              "      <td>(0, 1, 2, 3, 4, 5, 6, 7, 8)</td>\n",
              "      <td>[0.8011363636363636, 0.8125, 0.835227272727272...</td>\n",
              "      <td>0.845201</td>\n",
              "      <td>(Pclass, Age, SibSp, Parch, Fare, Sex Encode, ...</td>\n",
              "      <td>0.050348</td>\n",
              "      <td>0.039173</td>\n",
              "      <td>0.019586</td>\n",
              "    </tr>\n",
              "    <tr>\n",
              "      <th>8</th>\n",
              "      <td>(0, 1, 2, 4, 5, 6, 7, 8)</td>\n",
              "      <td>[0.7897727272727273, 0.8238636363636364, 0.823...</td>\n",
              "      <td>0.844071</td>\n",
              "      <td>(Pclass, Age, SibSp, Fare, Sex Encode, Embarke...</td>\n",
              "      <td>0.054038</td>\n",
              "      <td>0.042043</td>\n",
              "      <td>0.021022</td>\n",
              "    </tr>\n",
              "    <tr>\n",
              "      <th>7</th>\n",
              "      <td>(0, 1, 2, 4, 5, 6, 7)</td>\n",
              "      <td>[0.8011363636363636, 0.8238636363636364, 0.835...</td>\n",
              "      <td>0.84976</td>\n",
              "      <td>(Pclass, Age, SibSp, Fare, Sex Encode, Embarke...</td>\n",
              "      <td>0.051447</td>\n",
              "      <td>0.040028</td>\n",
              "      <td>0.020014</td>\n",
              "    </tr>\n",
              "    <tr>\n",
              "      <th>6</th>\n",
              "      <td>(0, 1, 2, 4, 5, 7)</td>\n",
              "      <td>[0.8011363636363636, 0.8295454545454546, 0.840...</td>\n",
              "      <td>0.855461</td>\n",
              "      <td>(Pclass, Age, SibSp, Fare, Sex Encode, Embarke...</td>\n",
              "      <td>0.057365</td>\n",
              "      <td>0.044632</td>\n",
              "      <td>0.022316</td>\n",
              "    </tr>\n",
              "    <tr>\n",
              "      <th>5</th>\n",
              "      <td>(0, 1, 2, 4, 5)</td>\n",
              "      <td>[0.8295454545454546, 0.8238636363636364, 0.840...</td>\n",
              "      <td>0.862292</td>\n",
              "      <td>(Pclass, Age, SibSp, Fare, Sex Encode)</td>\n",
              "      <td>0.052476</td>\n",
              "      <td>0.040828</td>\n",
              "      <td>0.020414</td>\n",
              "    </tr>\n",
              "    <tr>\n",
              "      <th>4</th>\n",
              "      <td>(0, 1, 4, 5)</td>\n",
              "      <td>[0.8465909090909091, 0.8068181818181818, 0.835...</td>\n",
              "      <td>0.857727</td>\n",
              "      <td>(Pclass, Age, Fare, Sex Encode)</td>\n",
              "      <td>0.051791</td>\n",
              "      <td>0.040295</td>\n",
              "      <td>0.020147</td>\n",
              "    </tr>\n",
              "    <tr>\n",
              "      <th>3</th>\n",
              "      <td>(0, 4, 5)</td>\n",
              "      <td>[0.8238636363636364, 0.8352272727272727, 0.784...</td>\n",
              "      <td>0.832636</td>\n",
              "      <td>(Pclass, Fare, Sex Encode)</td>\n",
              "      <td>0.036145</td>\n",
              "      <td>0.028122</td>\n",
              "      <td>0.014061</td>\n",
              "    </tr>\n",
              "    <tr>\n",
              "      <th>2</th>\n",
              "      <td>(4, 5)</td>\n",
              "      <td>[0.8125, 0.8181818181818182, 0.801136363636363...</td>\n",
              "      <td>0.829221</td>\n",
              "      <td>(Fare, Sex Encode)</td>\n",
              "      <td>0.030496</td>\n",
              "      <td>0.023727</td>\n",
              "      <td>0.011863</td>\n",
              "    </tr>\n",
              "    <tr>\n",
              "      <th>1</th>\n",
              "      <td>(5,)</td>\n",
              "      <td>[0.7443181818181818, 0.7727272727272727, 0.755...</td>\n",
              "      <td>0.76426</td>\n",
              "      <td>(Sex Encode,)</td>\n",
              "      <td>0.026129</td>\n",
              "      <td>0.020329</td>\n",
              "      <td>0.010165</td>\n",
              "    </tr>\n",
              "  </tbody>\n",
              "</table>\n",
              "</div>"
            ],
            "text/plain": [
              "                   feature_idx  \\\n",
              "9  (0, 1, 2, 3, 4, 5, 6, 7, 8)   \n",
              "8     (0, 1, 2, 4, 5, 6, 7, 8)   \n",
              "7        (0, 1, 2, 4, 5, 6, 7)   \n",
              "6           (0, 1, 2, 4, 5, 7)   \n",
              "5              (0, 1, 2, 4, 5)   \n",
              "4                 (0, 1, 4, 5)   \n",
              "3                    (0, 4, 5)   \n",
              "2                       (4, 5)   \n",
              "1                         (5,)   \n",
              "\n",
              "                                           cv_scores avg_score  \\\n",
              "9  [0.8011363636363636, 0.8125, 0.835227272727272...  0.845201   \n",
              "8  [0.7897727272727273, 0.8238636363636364, 0.823...  0.844071   \n",
              "7  [0.8011363636363636, 0.8238636363636364, 0.835...   0.84976   \n",
              "6  [0.8011363636363636, 0.8295454545454546, 0.840...  0.855461   \n",
              "5  [0.8295454545454546, 0.8238636363636364, 0.840...  0.862292   \n",
              "4  [0.8465909090909091, 0.8068181818181818, 0.835...  0.857727   \n",
              "3  [0.8238636363636364, 0.8352272727272727, 0.784...  0.832636   \n",
              "2  [0.8125, 0.8181818181818182, 0.801136363636363...  0.829221   \n",
              "1  [0.7443181818181818, 0.7727272727272727, 0.755...   0.76426   \n",
              "\n",
              "                                       feature_names  ci_bound   std_dev  \\\n",
              "9  (Pclass, Age, SibSp, Parch, Fare, Sex Encode, ...  0.050348  0.039173   \n",
              "8  (Pclass, Age, SibSp, Fare, Sex Encode, Embarke...  0.054038  0.042043   \n",
              "7  (Pclass, Age, SibSp, Fare, Sex Encode, Embarke...  0.051447  0.040028   \n",
              "6  (Pclass, Age, SibSp, Fare, Sex Encode, Embarke...  0.057365  0.044632   \n",
              "5             (Pclass, Age, SibSp, Fare, Sex Encode)  0.052476  0.040828   \n",
              "4                    (Pclass, Age, Fare, Sex Encode)  0.051791  0.040295   \n",
              "3                         (Pclass, Fare, Sex Encode)  0.036145  0.028122   \n",
              "2                                 (Fare, Sex Encode)  0.030496  0.023727   \n",
              "1                                      (Sex Encode,)  0.026129  0.020329   \n",
              "\n",
              "    std_err  \n",
              "9  0.019586  \n",
              "8  0.021022  \n",
              "7  0.020014  \n",
              "6  0.022316  \n",
              "5  0.020414  \n",
              "4  0.020147  \n",
              "3  0.014061  \n",
              "2  0.011863  \n",
              "1  0.010165  "
            ]
          },
          "execution_count": 40,
          "metadata": {},
          "output_type": "execute_result"
        }
      ],
      "source": [
        "pd.DataFrame.from_dict(backward_feature_selection.get_metric_dict()).T"
      ]
    },
    {
      "cell_type": "code",
      "execution_count": null,
      "metadata": {
        "id": "3udYkVha4n5j"
      },
      "outputs": [],
      "source": [
        "X_train_sel = X_train[b_feature_names]\n",
        "X_test_sel = X_test[b_feature_names]"
      ]
    },
    {
      "cell_type": "code",
      "execution_count": null,
      "metadata": {
        "id": "oFehePey4n5j",
        "outputId": "0d269810-9c23-41e5-b2ee-b47034f4b04d"
      },
      "outputs": [
        {
          "name": "stdout",
          "output_type": "stream",
          "text": [
            "Akurasi model Random Forest Backward Selection 0.8379888268156425\n"
          ]
        }
      ],
      "source": [
        "model = RandomForestClassifier(n_estimators=100, random_state=0)\n",
        "model.fit(X_train_sel, y_train)\n",
        "\n",
        "y_pred = model.predict(X_test_sel)\n",
        "accuracy = accuracy_score(y_test,y_pred)\n",
        "\n",
        "print(\"Akurasi model Random Forest Backward Selection\", accuracy)"
      ]
    },
    {
      "cell_type": "markdown",
      "metadata": {
        "id": "5ct60_03boti"
      },
      "source": [
        "## Wrapper - Exhaustive Search"
      ]
    },
    {
      "cell_type": "code",
      "execution_count": null,
      "metadata": {
        "id": "RBaoLXvbbquW"
      },
      "outputs": [],
      "source": [
        "from mlxtend.feature_selection import ExhaustiveFeatureSelector"
      ]
    },
    {
      "cell_type": "code",
      "execution_count": null,
      "metadata": {
        "id": "gek2ijagbx3E"
      },
      "outputs": [],
      "source": [
        "X_train = df_oversampled.drop(['Survived'], axis=1)\n",
        "y_train = df_oversampled['Survived']"
      ]
    },
    {
      "cell_type": "code",
      "execution_count": null,
      "metadata": {
        "colab": {
          "base_uri": "https://localhost:8080/"
        },
        "id": "aThV35yDbsqS",
        "outputId": "216366fc-ec99-46b5-b977-31faf45e8af0"
      },
      "outputs": [
        {
          "name": "stderr",
          "output_type": "stream",
          "text": [
            "Features: 511/511"
          ]
        }
      ],
      "source": [
        "efs = ExhaustiveFeatureSelector(RandomForestClassifier(n_jobs=-1, random_state=0),\n",
        "                                min_features=1,\n",
        "                                max_features=9,\n",
        "                                scoring='accuracy',\n",
        "                                cv=2,\n",
        "                                n_jobs=-1).fit(X_train, y_train)"
      ]
    },
    {
      "cell_type": "code",
      "execution_count": null,
      "metadata": {
        "colab": {
          "base_uri": "https://localhost:8080/"
        },
        "id": "i8B8IKY6cpIp",
        "outputId": "0f8d733b-f220-4496-d66d-dd951d75272c"
      },
      "outputs": [
        {
          "data": {
            "text/plain": [
              "['Pclass', 'Age', 'SibSp', 'Fare', 'Sex Encode']"
            ]
          },
          "execution_count": 46,
          "metadata": {},
          "output_type": "execute_result"
        }
      ],
      "source": [
        "efs_feature_names = efs.best_feature_names_\n",
        "efs_feature_names = list(efs_feature_names)\n",
        "efs_feature_names"
      ]
    },
    {
      "cell_type": "code",
      "execution_count": null,
      "metadata": {
        "colab": {
          "base_uri": "https://localhost:8080/"
        },
        "id": "B3_rEeCmcqm1",
        "outputId": "94ab3d65-696f-45a8-d823-7bb3c89f3123"
      },
      "outputs": [
        {
          "data": {
            "text/plain": [
              "0.8485193621867881"
            ]
          },
          "execution_count": 47,
          "metadata": {},
          "output_type": "execute_result"
        }
      ],
      "source": [
        "efs.best_score_"
      ]
    },
    {
      "cell_type": "code",
      "execution_count": null,
      "metadata": {
        "colab": {
          "base_uri": "https://localhost:8080/",
          "height": 684
        },
        "id": "8J1BY-XBctbh",
        "outputId": "83d0e770-3bbc-4771-baa9-22414e695237"
      },
      "outputs": [
        {
          "data": {
            "text/html": [
              "<div>\n",
              "<style scoped>\n",
              "    .dataframe tbody tr th:only-of-type {\n",
              "        vertical-align: middle;\n",
              "    }\n",
              "\n",
              "    .dataframe tbody tr th {\n",
              "        vertical-align: top;\n",
              "    }\n",
              "\n",
              "    .dataframe thead th {\n",
              "        text-align: right;\n",
              "    }\n",
              "</style>\n",
              "<table border=\"1\" class=\"dataframe\">\n",
              "  <thead>\n",
              "    <tr style=\"text-align: right;\">\n",
              "      <th></th>\n",
              "      <th>feature_idx</th>\n",
              "      <th>cv_scores</th>\n",
              "      <th>avg_score</th>\n",
              "      <th>feature_names</th>\n",
              "      <th>ci_bound</th>\n",
              "      <th>std_dev</th>\n",
              "      <th>std_err</th>\n",
              "    </tr>\n",
              "  </thead>\n",
              "  <tbody>\n",
              "    <tr>\n",
              "      <th>0</th>\n",
              "      <td>(0,)</td>\n",
              "      <td>[0.662870159453303, 0.6583143507972665]</td>\n",
              "      <td>0.660592</td>\n",
              "      <td>(Pclass,)</td>\n",
              "      <td>0.009801</td>\n",
              "      <td>0.002278</td>\n",
              "      <td>0.002278</td>\n",
              "    </tr>\n",
              "    <tr>\n",
              "      <th>1</th>\n",
              "      <td>(1,)</td>\n",
              "      <td>[0.5785876993166287, 0.5580865603644647]</td>\n",
              "      <td>0.568337</td>\n",
              "      <td>(Age,)</td>\n",
              "      <td>0.044105</td>\n",
              "      <td>0.010251</td>\n",
              "      <td>0.010251</td>\n",
              "    </tr>\n",
              "    <tr>\n",
              "      <th>2</th>\n",
              "      <td>(2,)</td>\n",
              "      <td>[0.5444191343963554, 0.5945330296127562]</td>\n",
              "      <td>0.569476</td>\n",
              "      <td>(SibSp,)</td>\n",
              "      <td>0.107811</td>\n",
              "      <td>0.025057</td>\n",
              "      <td>0.025057</td>\n",
              "    </tr>\n",
              "    <tr>\n",
              "      <th>3</th>\n",
              "      <td>(3,)</td>\n",
              "      <td>[0.5808656036446469, 0.5649202733485194]</td>\n",
              "      <td>0.572893</td>\n",
              "      <td>(Parch,)</td>\n",
              "      <td>0.034304</td>\n",
              "      <td>0.007973</td>\n",
              "      <td>0.007973</td>\n",
              "    </tr>\n",
              "    <tr>\n",
              "      <th>4</th>\n",
              "      <td>(4,)</td>\n",
              "      <td>[0.6560364464692483, 0.6993166287015945]</td>\n",
              "      <td>0.677677</td>\n",
              "      <td>(Fare,)</td>\n",
              "      <td>0.09311</td>\n",
              "      <td>0.02164</td>\n",
              "      <td>0.02164</td>\n",
              "    </tr>\n",
              "    <tr>\n",
              "      <th>...</th>\n",
              "      <td>...</td>\n",
              "      <td>...</td>\n",
              "      <td>...</td>\n",
              "      <td>...</td>\n",
              "      <td>...</td>\n",
              "      <td>...</td>\n",
              "      <td>...</td>\n",
              "    </tr>\n",
              "    <tr>\n",
              "      <th>506</th>\n",
              "      <td>(0, 1, 2, 4, 5, 6, 7, 8)</td>\n",
              "      <td>[0.8132118451025057, 0.8678815489749431]</td>\n",
              "      <td>0.840547</td>\n",
              "      <td>(Pclass, Age, SibSp, Fare, Sex Encode, Embarke...</td>\n",
              "      <td>0.117612</td>\n",
              "      <td>0.027335</td>\n",
              "      <td>0.027335</td>\n",
              "    </tr>\n",
              "    <tr>\n",
              "      <th>507</th>\n",
              "      <td>(0, 1, 3, 4, 5, 6, 7, 8)</td>\n",
              "      <td>[0.7813211845102506, 0.8656036446469249]</td>\n",
              "      <td>0.823462</td>\n",
              "      <td>(Pclass, Age, Parch, Fare, Sex Encode, Embarke...</td>\n",
              "      <td>0.181319</td>\n",
              "      <td>0.042141</td>\n",
              "      <td>0.042141</td>\n",
              "    </tr>\n",
              "    <tr>\n",
              "      <th>508</th>\n",
              "      <td>(0, 2, 3, 4, 5, 6, 7, 8)</td>\n",
              "      <td>[0.7927107061503417, 0.8109339407744874]</td>\n",
              "      <td>0.801822</td>\n",
              "      <td>(Pclass, SibSp, Parch, Fare, Sex Encode, Embar...</td>\n",
              "      <td>0.039204</td>\n",
              "      <td>0.009112</td>\n",
              "      <td>0.009112</td>\n",
              "    </tr>\n",
              "    <tr>\n",
              "      <th>509</th>\n",
              "      <td>(1, 2, 3, 4, 5, 6, 7, 8)</td>\n",
              "      <td>[0.7995444191343963, 0.856492027334852]</td>\n",
              "      <td>0.828018</td>\n",
              "      <td>(Age, SibSp, Parch, Fare, Sex Encode, Embarked...</td>\n",
              "      <td>0.122513</td>\n",
              "      <td>0.028474</td>\n",
              "      <td>0.028474</td>\n",
              "    </tr>\n",
              "    <tr>\n",
              "      <th>510</th>\n",
              "      <td>(0, 1, 2, 3, 4, 5, 6, 7, 8)</td>\n",
              "      <td>[0.8041002277904328, 0.8610478359908884]</td>\n",
              "      <td>0.832574</td>\n",
              "      <td>(Pclass, Age, SibSp, Parch, Fare, Sex Encode, ...</td>\n",
              "      <td>0.122513</td>\n",
              "      <td>0.028474</td>\n",
              "      <td>0.028474</td>\n",
              "    </tr>\n",
              "  </tbody>\n",
              "</table>\n",
              "<p>511 rows × 7 columns</p>\n",
              "</div>"
            ],
            "text/plain": [
              "                     feature_idx                                 cv_scores  \\\n",
              "0                           (0,)   [0.662870159453303, 0.6583143507972665]   \n",
              "1                           (1,)  [0.5785876993166287, 0.5580865603644647]   \n",
              "2                           (2,)  [0.5444191343963554, 0.5945330296127562]   \n",
              "3                           (3,)  [0.5808656036446469, 0.5649202733485194]   \n",
              "4                           (4,)  [0.6560364464692483, 0.6993166287015945]   \n",
              "..                           ...                                       ...   \n",
              "506     (0, 1, 2, 4, 5, 6, 7, 8)  [0.8132118451025057, 0.8678815489749431]   \n",
              "507     (0, 1, 3, 4, 5, 6, 7, 8)  [0.7813211845102506, 0.8656036446469249]   \n",
              "508     (0, 2, 3, 4, 5, 6, 7, 8)  [0.7927107061503417, 0.8109339407744874]   \n",
              "509     (1, 2, 3, 4, 5, 6, 7, 8)   [0.7995444191343963, 0.856492027334852]   \n",
              "510  (0, 1, 2, 3, 4, 5, 6, 7, 8)  [0.8041002277904328, 0.8610478359908884]   \n",
              "\n",
              "    avg_score                                      feature_names  ci_bound  \\\n",
              "0    0.660592                                          (Pclass,)  0.009801   \n",
              "1    0.568337                                             (Age,)  0.044105   \n",
              "2    0.569476                                           (SibSp,)  0.107811   \n",
              "3    0.572893                                           (Parch,)  0.034304   \n",
              "4    0.677677                                            (Fare,)   0.09311   \n",
              "..        ...                                                ...       ...   \n",
              "506  0.840547  (Pclass, Age, SibSp, Fare, Sex Encode, Embarke...  0.117612   \n",
              "507  0.823462  (Pclass, Age, Parch, Fare, Sex Encode, Embarke...  0.181319   \n",
              "508  0.801822  (Pclass, SibSp, Parch, Fare, Sex Encode, Embar...  0.039204   \n",
              "509  0.828018  (Age, SibSp, Parch, Fare, Sex Encode, Embarked...  0.122513   \n",
              "510  0.832574  (Pclass, Age, SibSp, Parch, Fare, Sex Encode, ...  0.122513   \n",
              "\n",
              "      std_dev   std_err  \n",
              "0    0.002278  0.002278  \n",
              "1    0.010251  0.010251  \n",
              "2    0.025057  0.025057  \n",
              "3    0.007973  0.007973  \n",
              "4     0.02164   0.02164  \n",
              "..        ...       ...  \n",
              "506  0.027335  0.027335  \n",
              "507  0.042141  0.042141  \n",
              "508  0.009112  0.009112  \n",
              "509  0.028474  0.028474  \n",
              "510  0.028474  0.028474  \n",
              "\n",
              "[511 rows x 7 columns]"
            ]
          },
          "execution_count": 48,
          "metadata": {},
          "output_type": "execute_result"
        }
      ],
      "source": [
        "pd.DataFrame.from_dict(efs.get_metric_dict()).T"
      ]
    },
    {
      "cell_type": "code",
      "execution_count": null,
      "metadata": {
        "id": "zA11MDtF4n5k"
      },
      "outputs": [],
      "source": [
        "X_train_sel = X_train[efs_feature_names]\n",
        "X_test_sel = X_test[efs_feature_names]"
      ]
    },
    {
      "cell_type": "code",
      "execution_count": null,
      "metadata": {
        "id": "2yvnmAOY4n5k",
        "outputId": "df6c6280-8801-4258-a2a0-ee905780fd37"
      },
      "outputs": [
        {
          "name": "stdout",
          "output_type": "stream",
          "text": [
            "Akurasi model Random Forest Exhaustive Search 0.8379888268156425\n"
          ]
        }
      ],
      "source": [
        "model = RandomForestClassifier(n_estimators=100, random_state=0)\n",
        "model.fit(X_train_sel, y_train)\n",
        "\n",
        "y_pred = model.predict(X_test_sel)\n",
        "accuracy = accuracy_score(y_test,y_pred)\n",
        "\n",
        "print(\"Akurasi model Random Forest Exhaustive Search\", accuracy)"
      ]
    },
    {
      "cell_type": "markdown",
      "metadata": {
        "id": "myanrzb-cxmH"
      },
      "source": [
        "## Embedded - Lasso"
      ]
    },
    {
      "cell_type": "code",
      "execution_count": null,
      "metadata": {
        "id": "cIWXbJ1UczMk"
      },
      "outputs": [],
      "source": [
        "from sklearn.feature_selection import SelectFromModel\n",
        "from sklearn.linear_model import LogisticRegression"
      ]
    },
    {
      "cell_type": "code",
      "execution_count": null,
      "metadata": {
        "id": "MkdEYvmkc27P"
      },
      "outputs": [],
      "source": [
        "X_train = df_oversampled.drop(['Survived'], axis=1)\n",
        "y_train = df_oversampled['Survived']"
      ]
    },
    {
      "cell_type": "code",
      "execution_count": null,
      "metadata": {
        "id": "Vdog4F-pc4tN"
      },
      "outputs": [],
      "source": [
        "# C makin besar makin tidak berpengaruh\n",
        "sel = SelectFromModel(LogisticRegression(penalty=\"l1\",\n",
        "                                         C=0.1,\n",
        "                                         solver=\"liblinear\"\n",
        "                                         ))"
      ]
    },
    {
      "cell_type": "code",
      "execution_count": null,
      "metadata": {
        "colab": {
          "base_uri": "https://localhost:8080/",
          "height": 116
        },
        "id": "RfNvATuMc6XY",
        "outputId": "c0cead5c-37be-4d8f-b277-5ecddaf172b2"
      },
      "outputs": [
        {
          "data": {
            "text/html": [
              "<style>#sk-container-id-1 {color: black;background-color: white;}#sk-container-id-1 pre{padding: 0;}#sk-container-id-1 div.sk-toggleable {background-color: white;}#sk-container-id-1 label.sk-toggleable__label {cursor: pointer;display: block;width: 100%;margin-bottom: 0;padding: 0.3em;box-sizing: border-box;text-align: center;}#sk-container-id-1 label.sk-toggleable__label-arrow:before {content: \"▸\";float: left;margin-right: 0.25em;color: #696969;}#sk-container-id-1 label.sk-toggleable__label-arrow:hover:before {color: black;}#sk-container-id-1 div.sk-estimator:hover label.sk-toggleable__label-arrow:before {color: black;}#sk-container-id-1 div.sk-toggleable__content {max-height: 0;max-width: 0;overflow: hidden;text-align: left;background-color: #f0f8ff;}#sk-container-id-1 div.sk-toggleable__content pre {margin: 0.2em;color: black;border-radius: 0.25em;background-color: #f0f8ff;}#sk-container-id-1 input.sk-toggleable__control:checked~div.sk-toggleable__content {max-height: 200px;max-width: 100%;overflow: auto;}#sk-container-id-1 input.sk-toggleable__control:checked~label.sk-toggleable__label-arrow:before {content: \"▾\";}#sk-container-id-1 div.sk-estimator input.sk-toggleable__control:checked~label.sk-toggleable__label {background-color: #d4ebff;}#sk-container-id-1 div.sk-label input.sk-toggleable__control:checked~label.sk-toggleable__label {background-color: #d4ebff;}#sk-container-id-1 input.sk-hidden--visually {border: 0;clip: rect(1px 1px 1px 1px);clip: rect(1px, 1px, 1px, 1px);height: 1px;margin: -1px;overflow: hidden;padding: 0;position: absolute;width: 1px;}#sk-container-id-1 div.sk-estimator {font-family: monospace;background-color: #f0f8ff;border: 1px dotted black;border-radius: 0.25em;box-sizing: border-box;margin-bottom: 0.5em;}#sk-container-id-1 div.sk-estimator:hover {background-color: #d4ebff;}#sk-container-id-1 div.sk-parallel-item::after {content: \"\";width: 100%;border-bottom: 1px solid gray;flex-grow: 1;}#sk-container-id-1 div.sk-label:hover label.sk-toggleable__label {background-color: #d4ebff;}#sk-container-id-1 div.sk-serial::before {content: \"\";position: absolute;border-left: 1px solid gray;box-sizing: border-box;top: 0;bottom: 0;left: 50%;z-index: 0;}#sk-container-id-1 div.sk-serial {display: flex;flex-direction: column;align-items: center;background-color: white;padding-right: 0.2em;padding-left: 0.2em;position: relative;}#sk-container-id-1 div.sk-item {position: relative;z-index: 1;}#sk-container-id-1 div.sk-parallel {display: flex;align-items: stretch;justify-content: center;background-color: white;position: relative;}#sk-container-id-1 div.sk-item::before, #sk-container-id-1 div.sk-parallel-item::before {content: \"\";position: absolute;border-left: 1px solid gray;box-sizing: border-box;top: 0;bottom: 0;left: 50%;z-index: -1;}#sk-container-id-1 div.sk-parallel-item {display: flex;flex-direction: column;z-index: 1;position: relative;background-color: white;}#sk-container-id-1 div.sk-parallel-item:first-child::after {align-self: flex-end;width: 50%;}#sk-container-id-1 div.sk-parallel-item:last-child::after {align-self: flex-start;width: 50%;}#sk-container-id-1 div.sk-parallel-item:only-child::after {width: 0;}#sk-container-id-1 div.sk-dashed-wrapped {border: 1px dashed gray;margin: 0 0.4em 0.5em 0.4em;box-sizing: border-box;padding-bottom: 0.4em;background-color: white;}#sk-container-id-1 div.sk-label label {font-family: monospace;font-weight: bold;display: inline-block;line-height: 1.2em;}#sk-container-id-1 div.sk-label-container {text-align: center;}#sk-container-id-1 div.sk-container {/* jupyter's `normalize.less` sets `[hidden] { display: none; }` but bootstrap.min.css set `[hidden] { display: none !important; }` so we also need the `!important` here to be able to override the default hidden behavior on the sphinx rendered scikit-learn.org. See: https://github.com/scikit-learn/scikit-learn/issues/21755 */display: inline-block !important;position: relative;}#sk-container-id-1 div.sk-text-repr-fallback {display: none;}</style><div id=\"sk-container-id-1\" class=\"sk-top-container\"><div class=\"sk-text-repr-fallback\"><pre>SelectFromModel(estimator=LogisticRegression(C=0.1, penalty=&#x27;l1&#x27;,\n",
              "                                             solver=&#x27;liblinear&#x27;))</pre><b>In a Jupyter environment, please rerun this cell to show the HTML representation or trust the notebook. <br />On GitHub, the HTML representation is unable to render, please try loading this page with nbviewer.org.</b></div><div class=\"sk-container\" hidden><div class=\"sk-item sk-dashed-wrapped\"><div class=\"sk-label-container\"><div class=\"sk-label sk-toggleable\"><input class=\"sk-toggleable__control sk-hidden--visually\" id=\"sk-estimator-id-1\" type=\"checkbox\" ><label for=\"sk-estimator-id-1\" class=\"sk-toggleable__label sk-toggleable__label-arrow\">SelectFromModel</label><div class=\"sk-toggleable__content\"><pre>SelectFromModel(estimator=LogisticRegression(C=0.1, penalty=&#x27;l1&#x27;,\n",
              "                                             solver=&#x27;liblinear&#x27;))</pre></div></div></div><div class=\"sk-parallel\"><div class=\"sk-parallel-item\"><div class=\"sk-item\"><div class=\"sk-label-container\"><div class=\"sk-label sk-toggleable\"><input class=\"sk-toggleable__control sk-hidden--visually\" id=\"sk-estimator-id-2\" type=\"checkbox\" ><label for=\"sk-estimator-id-2\" class=\"sk-toggleable__label sk-toggleable__label-arrow\">estimator: LogisticRegression</label><div class=\"sk-toggleable__content\"><pre>LogisticRegression(C=0.1, penalty=&#x27;l1&#x27;, solver=&#x27;liblinear&#x27;)</pre></div></div></div><div class=\"sk-serial\"><div class=\"sk-item\"><div class=\"sk-estimator sk-toggleable\"><input class=\"sk-toggleable__control sk-hidden--visually\" id=\"sk-estimator-id-3\" type=\"checkbox\" ><label for=\"sk-estimator-id-3\" class=\"sk-toggleable__label sk-toggleable__label-arrow\">LogisticRegression</label><div class=\"sk-toggleable__content\"><pre>LogisticRegression(C=0.1, penalty=&#x27;l1&#x27;, solver=&#x27;liblinear&#x27;)</pre></div></div></div></div></div></div></div></div></div></div>"
            ],
            "text/plain": [
              "SelectFromModel(estimator=LogisticRegression(C=0.1, penalty='l1',\n",
              "                                             solver='liblinear'))"
            ]
          },
          "execution_count": 54,
          "metadata": {},
          "output_type": "execute_result"
        }
      ],
      "source": [
        "sel.fit(X_train, y_train)"
      ]
    },
    {
      "cell_type": "code",
      "execution_count": null,
      "metadata": {
        "colab": {
          "base_uri": "https://localhost:8080/"
        },
        "id": "lCJAvFzNc7wF",
        "outputId": "557e8970-d2d3-4473-b899-f7bdc39e6f8e"
      },
      "outputs": [
        {
          "data": {
            "text/plain": [
              "array(['Pclass', 'Age', 'SibSp', 'Fare', 'Sex Encode'], dtype=object)"
            ]
          },
          "execution_count": 55,
          "metadata": {},
          "output_type": "execute_result"
        }
      ],
      "source": [
        "sel.get_feature_names_out()"
      ]
    },
    {
      "cell_type": "code",
      "execution_count": null,
      "metadata": {
        "colab": {
          "base_uri": "https://localhost:8080/"
        },
        "id": "OC7yO-2Fc9Bz",
        "outputId": "57e34897-6937-4992-b925-0ea1a4320ff2"
      },
      "outputs": [
        {
          "data": {
            "text/plain": [
              "array([ True,  True,  True, False,  True,  True, False, False, False])"
            ]
          },
          "execution_count": 56,
          "metadata": {},
          "output_type": "execute_result"
        }
      ],
      "source": [
        "# True kolom yang signifikan, False kolom tidak signifikan\n",
        "sel.get_support()"
      ]
    },
    {
      "cell_type": "code",
      "execution_count": null,
      "metadata": {
        "id": "zNitYiK7mcV3"
      },
      "outputs": [],
      "source": [
        "# Mengambil kolom yang penting\n",
        "X_train1 = sel.transform(X_train)\n",
        "X_test1 = sel.transform(X_test)"
      ]
    },
    {
      "cell_type": "code",
      "execution_count": null,
      "metadata": {
        "colab": {
          "base_uri": "https://localhost:8080/"
        },
        "id": "vQxOrFlnIM3Y",
        "outputId": "1cd45734-4d25-4d30-ba8c-d6db35f446e0"
      },
      "outputs": [
        {
          "data": {
            "text/plain": [
              "(878, 5)"
            ]
          },
          "execution_count": 58,
          "metadata": {},
          "output_type": "execute_result"
        }
      ],
      "source": [
        "X_train1.shape"
      ]
    },
    {
      "cell_type": "code",
      "execution_count": null,
      "metadata": {
        "colab": {
          "base_uri": "https://localhost:8080/",
          "height": 74
        },
        "id": "i3N9e7UOIQRZ",
        "outputId": "8d06d4a0-be8d-4922-acd7-28988074b4d5"
      },
      "outputs": [
        {
          "data": {
            "text/html": [
              "<style>#sk-container-id-2 {color: black;background-color: white;}#sk-container-id-2 pre{padding: 0;}#sk-container-id-2 div.sk-toggleable {background-color: white;}#sk-container-id-2 label.sk-toggleable__label {cursor: pointer;display: block;width: 100%;margin-bottom: 0;padding: 0.3em;box-sizing: border-box;text-align: center;}#sk-container-id-2 label.sk-toggleable__label-arrow:before {content: \"▸\";float: left;margin-right: 0.25em;color: #696969;}#sk-container-id-2 label.sk-toggleable__label-arrow:hover:before {color: black;}#sk-container-id-2 div.sk-estimator:hover label.sk-toggleable__label-arrow:before {color: black;}#sk-container-id-2 div.sk-toggleable__content {max-height: 0;max-width: 0;overflow: hidden;text-align: left;background-color: #f0f8ff;}#sk-container-id-2 div.sk-toggleable__content pre {margin: 0.2em;color: black;border-radius: 0.25em;background-color: #f0f8ff;}#sk-container-id-2 input.sk-toggleable__control:checked~div.sk-toggleable__content {max-height: 200px;max-width: 100%;overflow: auto;}#sk-container-id-2 input.sk-toggleable__control:checked~label.sk-toggleable__label-arrow:before {content: \"▾\";}#sk-container-id-2 div.sk-estimator input.sk-toggleable__control:checked~label.sk-toggleable__label {background-color: #d4ebff;}#sk-container-id-2 div.sk-label input.sk-toggleable__control:checked~label.sk-toggleable__label {background-color: #d4ebff;}#sk-container-id-2 input.sk-hidden--visually {border: 0;clip: rect(1px 1px 1px 1px);clip: rect(1px, 1px, 1px, 1px);height: 1px;margin: -1px;overflow: hidden;padding: 0;position: absolute;width: 1px;}#sk-container-id-2 div.sk-estimator {font-family: monospace;background-color: #f0f8ff;border: 1px dotted black;border-radius: 0.25em;box-sizing: border-box;margin-bottom: 0.5em;}#sk-container-id-2 div.sk-estimator:hover {background-color: #d4ebff;}#sk-container-id-2 div.sk-parallel-item::after {content: \"\";width: 100%;border-bottom: 1px solid gray;flex-grow: 1;}#sk-container-id-2 div.sk-label:hover label.sk-toggleable__label {background-color: #d4ebff;}#sk-container-id-2 div.sk-serial::before {content: \"\";position: absolute;border-left: 1px solid gray;box-sizing: border-box;top: 0;bottom: 0;left: 50%;z-index: 0;}#sk-container-id-2 div.sk-serial {display: flex;flex-direction: column;align-items: center;background-color: white;padding-right: 0.2em;padding-left: 0.2em;position: relative;}#sk-container-id-2 div.sk-item {position: relative;z-index: 1;}#sk-container-id-2 div.sk-parallel {display: flex;align-items: stretch;justify-content: center;background-color: white;position: relative;}#sk-container-id-2 div.sk-item::before, #sk-container-id-2 div.sk-parallel-item::before {content: \"\";position: absolute;border-left: 1px solid gray;box-sizing: border-box;top: 0;bottom: 0;left: 50%;z-index: -1;}#sk-container-id-2 div.sk-parallel-item {display: flex;flex-direction: column;z-index: 1;position: relative;background-color: white;}#sk-container-id-2 div.sk-parallel-item:first-child::after {align-self: flex-end;width: 50%;}#sk-container-id-2 div.sk-parallel-item:last-child::after {align-self: flex-start;width: 50%;}#sk-container-id-2 div.sk-parallel-item:only-child::after {width: 0;}#sk-container-id-2 div.sk-dashed-wrapped {border: 1px dashed gray;margin: 0 0.4em 0.5em 0.4em;box-sizing: border-box;padding-bottom: 0.4em;background-color: white;}#sk-container-id-2 div.sk-label label {font-family: monospace;font-weight: bold;display: inline-block;line-height: 1.2em;}#sk-container-id-2 div.sk-label-container {text-align: center;}#sk-container-id-2 div.sk-container {/* jupyter's `normalize.less` sets `[hidden] { display: none; }` but bootstrap.min.css set `[hidden] { display: none !important; }` so we also need the `!important` here to be able to override the default hidden behavior on the sphinx rendered scikit-learn.org. See: https://github.com/scikit-learn/scikit-learn/issues/21755 */display: inline-block !important;position: relative;}#sk-container-id-2 div.sk-text-repr-fallback {display: none;}</style><div id=\"sk-container-id-2\" class=\"sk-top-container\"><div class=\"sk-text-repr-fallback\"><pre>LogisticRegression()</pre><b>In a Jupyter environment, please rerun this cell to show the HTML representation or trust the notebook. <br />On GitHub, the HTML representation is unable to render, please try loading this page with nbviewer.org.</b></div><div class=\"sk-container\" hidden><div class=\"sk-item\"><div class=\"sk-estimator sk-toggleable\"><input class=\"sk-toggleable__control sk-hidden--visually\" id=\"sk-estimator-id-4\" type=\"checkbox\" checked><label for=\"sk-estimator-id-4\" class=\"sk-toggleable__label sk-toggleable__label-arrow\">LogisticRegression</label><div class=\"sk-toggleable__content\"><pre>LogisticRegression()</pre></div></div></div></div></div>"
            ],
            "text/plain": [
              "LogisticRegression()"
            ]
          },
          "execution_count": 59,
          "metadata": {},
          "output_type": "execute_result"
        }
      ],
      "source": [
        "glm = LogisticRegression()\n",
        "glm.fit(X_train1, y_train)"
      ]
    },
    {
      "cell_type": "code",
      "execution_count": null,
      "metadata": {
        "colab": {
          "base_uri": "https://localhost:8080/"
        },
        "id": "zzoN46CkIVxg",
        "outputId": "4515c001-2807-4d7b-9885-ae51e1c2d92d"
      },
      "outputs": [
        {
          "data": {
            "text/plain": [
              "array([0, 0, 0, 1, 1, 1, 1, 1, 1, 1, 0, 1, 0, 1, 1, 1, 0, 0, 0, 0, 0, 1,\n",
              "       0, 1, 1, 1, 0, 1, 1, 1, 0, 1, 0, 1, 0, 1, 0, 0, 0, 0, 0, 0, 0, 0,\n",
              "       1, 0, 0, 1, 0, 0, 1, 1, 1, 0, 1, 0, 0, 1, 0, 0, 0, 1, 1, 1, 1, 0,\n",
              "       1, 0, 1, 1, 1, 0, 1, 0, 0, 1, 1, 0, 0, 0, 0, 0, 1, 0, 0, 1, 1, 0,\n",
              "       1, 1, 1, 0, 0, 1, 1, 0, 1, 0, 0, 1, 0, 0, 0, 0, 1, 1, 1, 1, 0, 1,\n",
              "       0, 1, 0, 1, 1, 1, 1, 1, 0, 1, 0, 0, 0, 0, 0, 0, 0, 0, 0, 0, 1, 0,\n",
              "       0, 1, 0, 0, 0, 1, 0, 0, 0, 1, 0, 1, 1, 1, 0, 1, 1, 0, 0, 1, 1, 0,\n",
              "       1, 0, 1, 0, 1, 1, 0, 0, 1, 0, 0, 0, 0, 0, 0, 0, 0, 1, 0, 0, 1, 0,\n",
              "       1, 0, 0], dtype=int64)"
            ]
          },
          "execution_count": 60,
          "metadata": {},
          "output_type": "execute_result"
        }
      ],
      "source": [
        "y_pred = glm.predict(X_test1)\n",
        "y_pred"
      ]
    },
    {
      "cell_type": "code",
      "execution_count": null,
      "metadata": {
        "colab": {
          "base_uri": "https://localhost:8080/"
        },
        "id": "EVAhihNQIW-f",
        "outputId": "68238af7-3d65-47d8-a135-4cc6d6272fd1"
      },
      "outputs": [
        {
          "data": {
            "text/plain": [
              "0.7932960893854749"
            ]
          },
          "execution_count": 61,
          "metadata": {},
          "output_type": "execute_result"
        }
      ],
      "source": [
        "accuracy_score(y_test, y_pred)"
      ]
    }
  ],
  "metadata": {
    "colab": {
      "provenance": [],
      "toc_visible": true
    },
    "kernelspec": {
      "display_name": "Python 3",
      "name": "python3"
    },
    "language_info": {
      "codemirror_mode": {
        "name": "ipython",
        "version": 3
      },
      "file_extension": ".py",
      "mimetype": "text/x-python",
      "name": "python",
      "nbconvert_exporter": "python",
      "pygments_lexer": "ipython3",
      "version": "3.11.5"
    }
  },
  "nbformat": 4,
  "nbformat_minor": 0
}